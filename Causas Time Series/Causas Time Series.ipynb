{
 "cells": [
  {
   "cell_type": "markdown",
   "metadata": {},
   "source": [
    "# JuzData: proceso de generacion de causas - analisis temporal"
   ]
  },
  {
   "cell_type": "markdown",
   "metadata": {},
   "source": [
    "En el presente notebook se analiza la columna 'exp_fechecho' de nuestro dataset, que contiene las fechas de los hechos que motivaron las causas judiciales. En consecuencia no vamos a meternos con el proceso de distribucion de causas, sino unicamente con su generacion; en particular, me interesa analizar si existe estacionalidad y autocorrelacion temporal en el proceso. \n",
    "\n",
    "Esta forma de mirar el problema es interesante para el desafío por dos razones: (1) en sí mismo, en la medida en que conocer el patrón temporal de generación de las hechos nos ayuda a entender mejor la estructura del fenómeno de conflictividad social que da lugar a las causas; y porque (2) entender el proceso desde su estructura temporal es clave para analizar la conveniencia de usar el tiempo como un factor de distribución y cómo afectaría eso la uniformidad entre juzgados.  "
   ]
  },
  {
   "cell_type": "code",
   "execution_count": 1,
   "metadata": {},
   "outputs": [],
   "source": [
    "import numpy as np\n",
    "import pandas as pd\n",
    "import matplotlib.pyplot as plt\n",
    "import seaborn as sns\n",
    "import calmap\n",
    "import warnings\n",
    "warnings.filterwarnings('ignore')"
   ]
  },
  {
   "cell_type": "code",
   "execution_count": 2,
   "metadata": {},
   "outputs": [],
   "source": [
    "df = pd.read_excel('penal_df_fec.xlsx')"
   ]
  },
  {
   "cell_type": "code",
   "execution_count": 3,
   "metadata": {},
   "outputs": [
    {
     "data": {
      "text/html": [
       "<div>\n",
       "<style scoped>\n",
       "    .dataframe tbody tr th:only-of-type {\n",
       "        vertical-align: middle;\n",
       "    }\n",
       "\n",
       "    .dataframe tbody tr th {\n",
       "        vertical-align: top;\n",
       "    }\n",
       "\n",
       "    .dataframe thead th {\n",
       "        text-align: right;\n",
       "    }\n",
       "</style>\n",
       "<table border=\"1\" class=\"dataframe\">\n",
       "  <thead>\n",
       "    <tr style=\"text-align: right;\">\n",
       "      <th></th>\n",
       "      <th>exp_fechecho</th>\n",
       "      <th>exp_fechecho_dt</th>\n",
       "    </tr>\n",
       "  </thead>\n",
       "  <tbody>\n",
       "    <tr>\n",
       "      <td>0</td>\n",
       "      <td>17/2/2014 00:00</td>\n",
       "      <td>2014-02-17</td>\n",
       "    </tr>\n",
       "    <tr>\n",
       "      <td>1</td>\n",
       "      <td>NaN</td>\n",
       "      <td>NaT</td>\n",
       "    </tr>\n",
       "    <tr>\n",
       "      <td>2</td>\n",
       "      <td>2014-03-12 00:00:00</td>\n",
       "      <td>2014-03-12</td>\n",
       "    </tr>\n",
       "    <tr>\n",
       "      <td>3</td>\n",
       "      <td>13/4/2015 00:00</td>\n",
       "      <td>2015-04-13</td>\n",
       "    </tr>\n",
       "    <tr>\n",
       "      <td>4</td>\n",
       "      <td>14/5/2015 00:00</td>\n",
       "      <td>2015-05-14</td>\n",
       "    </tr>\n",
       "    <tr>\n",
       "      <td>5</td>\n",
       "      <td>2015-01-08 00:00:00</td>\n",
       "      <td>2015-01-08</td>\n",
       "    </tr>\n",
       "    <tr>\n",
       "      <td>6</td>\n",
       "      <td>NaN</td>\n",
       "      <td>NaT</td>\n",
       "    </tr>\n",
       "    <tr>\n",
       "      <td>7</td>\n",
       "      <td>15/7/2015 00:00</td>\n",
       "      <td>2015-07-15</td>\n",
       "    </tr>\n",
       "    <tr>\n",
       "      <td>8</td>\n",
       "      <td>14/5/2015 00:00</td>\n",
       "      <td>2015-05-14</td>\n",
       "    </tr>\n",
       "    <tr>\n",
       "      <td>9</td>\n",
       "      <td>NaN</td>\n",
       "      <td>NaT</td>\n",
       "    </tr>\n",
       "  </tbody>\n",
       "</table>\n",
       "</div>"
      ],
      "text/plain": [
       "          exp_fechecho exp_fechecho_dt\n",
       "0      17/2/2014 00:00      2014-02-17\n",
       "1                  NaN             NaT\n",
       "2  2014-03-12 00:00:00      2014-03-12\n",
       "3      13/4/2015 00:00      2015-04-13\n",
       "4      14/5/2015 00:00      2015-05-14\n",
       "5  2015-01-08 00:00:00      2015-01-08\n",
       "6                  NaN             NaT\n",
       "7      15/7/2015 00:00      2015-07-15\n",
       "8      14/5/2015 00:00      2015-05-14\n",
       "9                  NaN             NaT"
      ]
     },
     "execution_count": 3,
     "metadata": {},
     "output_type": "execute_result"
    }
   ],
   "source": [
    "df['exp_fechecho_dt'] = pd.to_datetime(df['exp_fechecho'])\n",
    "df[['exp_fechecho','exp_fechecho_dt']].head(10)"
   ]
  },
  {
   "cell_type": "code",
   "execution_count": 4,
   "metadata": {},
   "outputs": [],
   "source": [
    "# convierto 'unknown' en NaN para contabilizar\n",
    "import itertools as it\n",
    "for i, col in it.product(df.index,df.columns):\n",
    "    if df.at[i,col] == 'unknown':\n",
    "        df.at[i,col] = np.nan"
   ]
  },
  {
   "cell_type": "code",
   "execution_count": 5,
   "metadata": {},
   "outputs": [
    {
     "data": {
      "text/plain": [
       "13163"
      ]
     },
     "execution_count": 5,
     "metadata": {},
     "output_type": "execute_result"
    }
   ],
   "source": [
    "df['exp_fechecho_dt'].notna().sum()"
   ]
  },
  {
   "cell_type": "code",
   "execution_count": 6,
   "metadata": {},
   "outputs": [
    {
     "data": {
      "text/plain": [
       "2017-01-01    42\n",
       "2016-12-02    32\n",
       "2016-01-13    30\n",
       "2016-04-14    30\n",
       "2016-09-22    29\n",
       "Name: exp_fechecho_dt, dtype: int64"
      ]
     },
     "execution_count": 6,
     "metadata": {},
     "output_type": "execute_result"
    }
   ],
   "source": [
    "calendar = df['exp_fechecho_dt'].value_counts()\n",
    "calendar.head()"
   ]
  },
  {
   "cell_type": "code",
   "execution_count": 7,
   "metadata": {},
   "outputs": [
    {
     "data": {
      "image/png": "[encoded data removed]",
      "text/plain": [
       "<Figure size 1080x720 with 1 Axes>"
      ]
     },
     "metadata": {
      "needs_background": "light"
     },
     "output_type": "display_data"
    },
    {
     "data": {
      "image/png": "[encoded data removed]",
      "text/plain": [
       "<Figure size 1080x720 with 1 Axes>"
      ]
     },
     "metadata": {
      "needs_background": "light"
     },
     "output_type": "display_data"
    },
    {
     "data": {
      "image/png": "[encoded data removed]",
      "text/plain": [
       "<Figure size 1080x720 with 1 Axes>"
      ]
     },
     "metadata": {
      "needs_background": "light"
     },
     "output_type": "display_data"
    },
    {
     "data": {
      "image/png": "[encoded data removed]",
      "text/plain": [
       "<Figure size 1080x720 with 1 Axes>"
      ]
     },
     "metadata": {
      "needs_background": "light"
     },
     "output_type": "display_data"
    },
    {
     "data": {
      "image/png": "[encoded data removed]",
      "text/plain": [
       "<Figure size 1080x720 with 1 Axes>"
      ]
     },
     "metadata": {
      "needs_background": "light"
     },
     "output_type": "display_data"
    }
   ],
   "source": [
    "years = [2015,2016,2017,2018,2019]\n",
    "dias = ['Lun','Mar','Mie','Jue','Vie','Sab','Dom']\n",
    "meses = ['Ene','Feb','Mar','Abr','May','Jun','Jul',\n",
    "        'Ago','Sep','Oct','Nov','Dic']\n",
    "for year in years:\n",
    "    plt.figure(figsize=(15,10))\n",
    "    calmap.yearplot(calendar, year=year,\n",
    "                    daylabels=dias,\n",
    "                   monthlabels=meses)\n",
    "    plt.title(str(year) + ' - Causas por dia')\n",
    "    file_name = 'calendar_heatmap_'+str(year)+'.png'\n",
    "    plt.savefig(file_name)\n",
    "    plt.show()"
   ]
  },
  {
   "cell_type": "markdown",
   "metadata": {},
   "source": [
    "Que se puede ver en estos heatmaps: no parece haber una marcada estacionalidad (ver analisis mas abajo); el año 2016 presenta muchas mas causas que los demas (ver detalle abajo); y, lo que es mas importante a nuestros fines, se registra una tendencia a la autocorrelacion temporal de la cantidad de causas (lo que se aprecia visualmente en los clusters de más o menor intensidad de color). Esto significa que los hechos que dan lugar a causas se agrupan en clusters temporales (como ya vimos que lo hacen geográficamente)."
   ]
  },
  {
   "cell_type": "code",
   "execution_count": 40,
   "metadata": {},
   "outputs": [
    {
     "data": {
      "text/html": [
       "<div>\n",
       "<style scoped>\n",
       "    .dataframe tbody tr th:only-of-type {\n",
       "        vertical-align: middle;\n",
       "    }\n",
       "\n",
       "    .dataframe tbody tr th {\n",
       "        vertical-align: top;\n",
       "    }\n",
       "\n",
       "    .dataframe thead th {\n",
       "        text-align: right;\n",
       "    }\n",
       "</style>\n",
       "<table border=\"1\" class=\"dataframe\">\n",
       "  <thead>\n",
       "    <tr style=\"text-align: right;\">\n",
       "      <th></th>\n",
       "      <th>index</th>\n",
       "      <th>exp_fechecho_dt</th>\n",
       "    </tr>\n",
       "  </thead>\n",
       "  <tbody>\n",
       "    <tr>\n",
       "      <td>0</td>\n",
       "      <td>2017-01-01</td>\n",
       "      <td>42</td>\n",
       "    </tr>\n",
       "    <tr>\n",
       "      <td>1</td>\n",
       "      <td>2016-12-02</td>\n",
       "      <td>32</td>\n",
       "    </tr>\n",
       "    <tr>\n",
       "      <td>2</td>\n",
       "      <td>2016-01-13</td>\n",
       "      <td>30</td>\n",
       "    </tr>\n",
       "    <tr>\n",
       "      <td>3</td>\n",
       "      <td>2016-04-14</td>\n",
       "      <td>30</td>\n",
       "    </tr>\n",
       "    <tr>\n",
       "      <td>4</td>\n",
       "      <td>2016-09-22</td>\n",
       "      <td>29</td>\n",
       "    </tr>\n",
       "  </tbody>\n",
       "</table>\n",
       "</div>"
      ],
      "text/plain": [
       "       index  exp_fechecho_dt\n",
       "0 2017-01-01               42\n",
       "1 2016-12-02               32\n",
       "2 2016-01-13               30\n",
       "3 2016-04-14               30\n",
       "4 2016-09-22               29"
      ]
     },
     "execution_count": 40,
     "metadata": {},
     "output_type": "execute_result"
    }
   ],
   "source": [
    "# llevamos series a df\n",
    "calendar_df = calendar.to_frame()\n",
    "calendar_df = calendar_df.reset_index(drop=False)\n",
    "calendar_df.head()"
   ]
  },
  {
   "cell_type": "code",
   "execution_count": 41,
   "metadata": {},
   "outputs": [
    {
     "data": {
      "text/plain": [
       "Timestamp('2015-01-01 00:00:00')"
      ]
     },
     "execution_count": 41,
     "metadata": {},
     "output_type": "execute_result"
    }
   ],
   "source": [
    "year = pd.to_datetime('1/1/2015')\n",
    "year"
   ]
  },
  {
   "cell_type": "code",
   "execution_count": 42,
   "metadata": {},
   "outputs": [
    {
     "data": {
      "text/html": [
       "<div>\n",
       "<style scoped>\n",
       "    .dataframe tbody tr th:only-of-type {\n",
       "        vertical-align: middle;\n",
       "    }\n",
       "\n",
       "    .dataframe tbody tr th {\n",
       "        vertical-align: top;\n",
       "    }\n",
       "\n",
       "    .dataframe thead th {\n",
       "        text-align: right;\n",
       "    }\n",
       "</style>\n",
       "<table border=\"1\" class=\"dataframe\">\n",
       "  <thead>\n",
       "    <tr style=\"text-align: right;\">\n",
       "      <th></th>\n",
       "      <th>date</th>\n",
       "      <th>causas</th>\n",
       "    </tr>\n",
       "  </thead>\n",
       "  <tbody>\n",
       "    <tr>\n",
       "      <td>203</td>\n",
       "      <td>2015-01-01</td>\n",
       "      <td>2</td>\n",
       "    </tr>\n",
       "    <tr>\n",
       "      <td>204</td>\n",
       "      <td>2015-01-03</td>\n",
       "      <td>3</td>\n",
       "    </tr>\n",
       "    <tr>\n",
       "      <td>205</td>\n",
       "      <td>2015-01-04</td>\n",
       "      <td>5</td>\n",
       "    </tr>\n",
       "    <tr>\n",
       "      <td>206</td>\n",
       "      <td>2015-01-05</td>\n",
       "      <td>2</td>\n",
       "    </tr>\n",
       "    <tr>\n",
       "      <td>207</td>\n",
       "      <td>2015-01-06</td>\n",
       "      <td>3</td>\n",
       "    </tr>\n",
       "  </tbody>\n",
       "</table>\n",
       "</div>"
      ],
      "text/plain": [
       "          date  causas\n",
       "203 2015-01-01       2\n",
       "204 2015-01-03       3\n",
       "205 2015-01-04       5\n",
       "206 2015-01-05       2\n",
       "207 2015-01-06       3"
      ]
     },
     "execution_count": 42,
     "metadata": {},
     "output_type": "execute_result"
    }
   ],
   "source": [
    "# renombramos\n",
    "calendar_df = calendar_df.rename(columns={'index':'date','exp_fechecho_dt':'causas'})\n",
    "# reordenamos por fecha, reseteamos el indice\n",
    "calendar_df = calendar_df.sort_values(by='date').reset_index(drop=True)\n",
    "# filtramos desde 2015\n",
    "year_filter = pd.to_datetime('1/1/2015')\n",
    "calendar_df = calendar_df[calendar_df['date'] >= year_filter]\n",
    "calendar_df.head()"
   ]
  },
  {
   "cell_type": "markdown",
   "metadata": {},
   "source": [
    "A continuación vamos a desarrollar funciones para calcular los valores de autocorrelación con cuatro medidas: \n",
    "- Pearson (correlación paramétrica tradicional): cociente entre la covarianza y el producto de los desvíos de dos series de datos.\n",
    "- rho de Spearman (correlación de rangos, no paramétrica): rankea las observaciones de las series y calcula la correlación de Pearson de dicho ranking.\n",
    "- tau de Kendall (correlación de rangos, no paramétrica): también analiza la correlación ordinal, utilizando comparaciones entre pares de observaciones (estudiando si son concordantes o discordantes, i.e., si las dos series varían en la misma dirección o no).\n",
    "- Autocorrelación parcial: regresión de una serie sobre sus valores laggeados, se utiliza en la metodología Box-Jenkins."
   ]
  },
  {
   "cell_type": "code",
   "execution_count": 68,
   "metadata": {},
   "outputs": [],
   "source": [
    "from scipy.stats import pearsonr, spearmanr, kendalltau\n",
    "from statsmodels.tsa.stattools import pacf"
   ]
  },
  {
   "cell_type": "markdown",
   "metadata": {},
   "source": [
    "Para la función de autocorrelación parcial no tengo el p-value (para las demás sí); la librería de statsmodels me da los intervalos de confianza. Armamos una función para calcular el p-value (con una precisión determinada)"
   ]
  },
  {
   "cell_type": "code",
   "execution_count": 73,
   "metadata": {},
   "outputs": [],
   "source": [
    "# Función para p-value desde PACF"
   ]
  },
  {
   "cell_type": "code",
   "execution_count": 74,
   "metadata": {},
   "outputs": [],
   "source": [
    "def auto_corr(corr_function, series, \n",
    "              lags = 7, name='',\n",
    "              alpha = 0.05):\n",
    "    \"\"\"\n",
    "        Calcula autocorrelación y p-values correspondientes para la función de\n",
    "        correlación especificada.\n",
    "        \n",
    "        corr_function - función de correlación: pearsonr, spearmanr, kendalltau\n",
    "        series - serie de tiempo a analizar\n",
    "        lags - cuantos períodos considerar\n",
    "        name - nombre de la función para dataframe\n",
    "        alpha - alpha para intervalo de PACF\n",
    "    \"\"\"\n",
    "    auto_values = []\n",
    "    \n",
    "    if corr_function is pacf:\n",
    "        print('Armar función para PACF')\n",
    "        return\n",
    "    else:\n",
    "        p_values = []\n",
    "        for i in range(1,lags+1):\n",
    "            pearson = pearsonr(series[i:],series.shift(i)[i:])\n",
    "            auto_values.append(pearson[0])\n",
    "            p_values.append(pearson[1])\n",
    "    \n",
    "    results = {\n",
    "        'lag': range(1,lags+1),\n",
    "        str(name + '_corr'): auto_values,\n",
    "        str(name + '_p-val'): p_values,\n",
    "    }\n",
    "    \n",
    "    df = pd.DataFrame(results)\n",
    "    \n",
    "    return df"
   ]
  },
  {
   "cell_type": "code",
   "execution_count": 55,
   "metadata": {},
   "outputs": [],
   "source": [
    "test = auto_corr(pearsonr, \n",
    "                 calendar_df['causas'], \n",
    "                 lags = 7, name = 'pearson')"
   ]
  },
  {
   "cell_type": "code",
   "execution_count": 56,
   "metadata": {},
   "outputs": [
    {
     "data": {
      "text/html": [
       "<div>\n",
       "<style scoped>\n",
       "    .dataframe tbody tr th:only-of-type {\n",
       "        vertical-align: middle;\n",
       "    }\n",
       "\n",
       "    .dataframe tbody tr th {\n",
       "        vertical-align: top;\n",
       "    }\n",
       "\n",
       "    .dataframe thead th {\n",
       "        text-align: right;\n",
       "    }\n",
       "</style>\n",
       "<table border=\"1\" class=\"dataframe\">\n",
       "  <thead>\n",
       "    <tr style=\"text-align: right;\">\n",
       "      <th></th>\n",
       "      <th>lag</th>\n",
       "      <th>pearson_corr</th>\n",
       "      <th>pearson_p-val</th>\n",
       "    </tr>\n",
       "  </thead>\n",
       "  <tbody>\n",
       "    <tr>\n",
       "      <td>0</td>\n",
       "      <td>1</td>\n",
       "      <td>0.713865</td>\n",
       "      <td>0.0</td>\n",
       "    </tr>\n",
       "    <tr>\n",
       "      <td>1</td>\n",
       "      <td>2</td>\n",
       "      <td>0.719100</td>\n",
       "      <td>0.0</td>\n",
       "    </tr>\n",
       "    <tr>\n",
       "      <td>2</td>\n",
       "      <td>3</td>\n",
       "      <td>0.682517</td>\n",
       "      <td>0.0</td>\n",
       "    </tr>\n",
       "    <tr>\n",
       "      <td>3</td>\n",
       "      <td>4</td>\n",
       "      <td>0.676128</td>\n",
       "      <td>0.0</td>\n",
       "    </tr>\n",
       "    <tr>\n",
       "      <td>4</td>\n",
       "      <td>5</td>\n",
       "      <td>0.663669</td>\n",
       "      <td>0.0</td>\n",
       "    </tr>\n",
       "    <tr>\n",
       "      <td>5</td>\n",
       "      <td>6</td>\n",
       "      <td>0.663092</td>\n",
       "      <td>0.0</td>\n",
       "    </tr>\n",
       "    <tr>\n",
       "      <td>6</td>\n",
       "      <td>7</td>\n",
       "      <td>0.661362</td>\n",
       "      <td>0.0</td>\n",
       "    </tr>\n",
       "  </tbody>\n",
       "</table>\n",
       "</div>"
      ],
      "text/plain": [
       "   lag  pearson_corr  pearson_p-val\n",
       "0    1      0.713865            0.0\n",
       "1    2      0.719100            0.0\n",
       "2    3      0.682517            0.0\n",
       "3    4      0.676128            0.0\n",
       "4    5      0.663669            0.0\n",
       "5    6      0.663092            0.0\n",
       "6    7      0.661362            0.0"
      ]
     },
     "execution_count": 56,
     "metadata": {},
     "output_type": "execute_result"
    }
   ],
   "source": [
    "test"
   ]
  },
  {
   "cell_type": "code",
   "execution_count": 75,
   "metadata": {},
   "outputs": [],
   "source": [
    "# Falta PACF\n",
    "def correlations_df(series, lags = 7): \n",
    "    pearson_full = auto_corr(pearsonr, \n",
    "                             series, \n",
    "                             lags = lags, name = 'pearsonr')\n",
    "\n",
    "    spearman_full = auto_corr(spearmanr, \n",
    "                             series, \n",
    "                             lags = lags, name = 'spearmanr')\n",
    "\n",
    "    kendall_full = auto_corr(kendalltau, \n",
    "                             series, \n",
    "                             lags = lags, name = 'kendalltau')\n",
    "\n",
    "    correlations_full = pearson_full.merge(spearman_full, on = 'lag')\n",
    "    correlations_full = correlations_full.merge(kendall_full, on = 'lag')\n",
    "    return correlations_full"
   ]
  },
  {
   "cell_type": "code",
   "execution_count": 67,
   "metadata": {},
   "outputs": [
    {
     "data": {
      "text/html": [
       "<div>\n",
       "<style scoped>\n",
       "    .dataframe tbody tr th:only-of-type {\n",
       "        vertical-align: middle;\n",
       "    }\n",
       "\n",
       "    .dataframe tbody tr th {\n",
       "        vertical-align: top;\n",
       "    }\n",
       "\n",
       "    .dataframe thead th {\n",
       "        text-align: right;\n",
       "    }\n",
       "</style>\n",
       "<table border=\"1\" class=\"dataframe\">\n",
       "  <thead>\n",
       "    <tr style=\"text-align: right;\">\n",
       "      <th></th>\n",
       "      <th>lag</th>\n",
       "      <th>pearsonr_corr</th>\n",
       "      <th>pearsonr_p-val</th>\n",
       "      <th>spearmanr_corr</th>\n",
       "      <th>spearmanr_p-val</th>\n",
       "      <th>kendalltau_corr</th>\n",
       "      <th>kendalltau_p-val</th>\n",
       "    </tr>\n",
       "  </thead>\n",
       "  <tbody>\n",
       "    <tr>\n",
       "      <td>0</td>\n",
       "      <td>1</td>\n",
       "      <td>0.713865</td>\n",
       "      <td>0.0</td>\n",
       "      <td>0.713865</td>\n",
       "      <td>0.0</td>\n",
       "      <td>0.713865</td>\n",
       "      <td>0.0</td>\n",
       "    </tr>\n",
       "    <tr>\n",
       "      <td>1</td>\n",
       "      <td>2</td>\n",
       "      <td>0.719100</td>\n",
       "      <td>0.0</td>\n",
       "      <td>0.719100</td>\n",
       "      <td>0.0</td>\n",
       "      <td>0.719100</td>\n",
       "      <td>0.0</td>\n",
       "    </tr>\n",
       "    <tr>\n",
       "      <td>2</td>\n",
       "      <td>3</td>\n",
       "      <td>0.682517</td>\n",
       "      <td>0.0</td>\n",
       "      <td>0.682517</td>\n",
       "      <td>0.0</td>\n",
       "      <td>0.682517</td>\n",
       "      <td>0.0</td>\n",
       "    </tr>\n",
       "    <tr>\n",
       "      <td>3</td>\n",
       "      <td>4</td>\n",
       "      <td>0.676128</td>\n",
       "      <td>0.0</td>\n",
       "      <td>0.676128</td>\n",
       "      <td>0.0</td>\n",
       "      <td>0.676128</td>\n",
       "      <td>0.0</td>\n",
       "    </tr>\n",
       "    <tr>\n",
       "      <td>4</td>\n",
       "      <td>5</td>\n",
       "      <td>0.663669</td>\n",
       "      <td>0.0</td>\n",
       "      <td>0.663669</td>\n",
       "      <td>0.0</td>\n",
       "      <td>0.663669</td>\n",
       "      <td>0.0</td>\n",
       "    </tr>\n",
       "    <tr>\n",
       "      <td>5</td>\n",
       "      <td>6</td>\n",
       "      <td>0.663092</td>\n",
       "      <td>0.0</td>\n",
       "      <td>0.663092</td>\n",
       "      <td>0.0</td>\n",
       "      <td>0.663092</td>\n",
       "      <td>0.0</td>\n",
       "    </tr>\n",
       "    <tr>\n",
       "      <td>6</td>\n",
       "      <td>7</td>\n",
       "      <td>0.661362</td>\n",
       "      <td>0.0</td>\n",
       "      <td>0.661362</td>\n",
       "      <td>0.0</td>\n",
       "      <td>0.661362</td>\n",
       "      <td>0.0</td>\n",
       "    </tr>\n",
       "  </tbody>\n",
       "</table>\n",
       "</div>"
      ],
      "text/plain": [
       "   lag  pearsonr_corr  pearsonr_p-val  spearmanr_corr  spearmanr_p-val  \\\n",
       "0    1       0.713865             0.0        0.713865              0.0   \n",
       "1    2       0.719100             0.0        0.719100              0.0   \n",
       "2    3       0.682517             0.0        0.682517              0.0   \n",
       "3    4       0.676128             0.0        0.676128              0.0   \n",
       "4    5       0.663669             0.0        0.663669              0.0   \n",
       "5    6       0.663092             0.0        0.663092              0.0   \n",
       "6    7       0.661362             0.0        0.661362              0.0   \n",
       "\n",
       "   kendalltau_corr  kendalltau_p-val  \n",
       "0         0.713865               0.0  \n",
       "1         0.719100               0.0  \n",
       "2         0.682517               0.0  \n",
       "3         0.676128               0.0  \n",
       "4         0.663669               0.0  \n",
       "5         0.663092               0.0  \n",
       "6         0.661362               0.0  "
      ]
     },
     "execution_count": 67,
     "metadata": {},
     "output_type": "execute_result"
    }
   ],
   "source": [
    "correlations_df(calendar_df['causas'],lags = 7)"
   ]
  },
  {
   "cell_type": "code",
   "execution_count": 76,
   "metadata": {},
   "outputs": [],
   "source": [
    "# Plotear"
   ]
  },
  {
   "cell_type": "markdown",
   "metadata": {},
   "source": [
    "Es decir, una autocorrelación grande, de signo positivo y significativa, para las tres medidas de correlación."
   ]
  },
  {
   "cell_type": "markdown",
   "metadata": {},
   "source": [
    "## Analisis por año"
   ]
  },
  {
   "cell_type": "code",
   "execution_count": 12,
   "metadata": {},
   "outputs": [
    {
     "data": {
      "text/plain": [
       "Index(['org_idradactual', 'exp_cuij', 'org_idintpri', 'org_cod_pri',\n",
       "       'org_descorta_pri', 'org_descr_Pri', 'org_idintseg', 'est_id',\n",
       "       'est_descr', 'exp_anio', 'exp_cuerpos', 'exp_fojas', 'exp_detenidos',\n",
       "       'exp_id', 'exp_sufijo', 'exp_fechecho', 'exp_fecinidem', 'exp_fecini',\n",
       "       'exp_fecreg', 'exp_fecsor', 'exp_fecelev', 'exp_letra', 'oju_id',\n",
       "       'oju_descr', 'exp_ultmov', 'exp_ultmovf', 'den_id', 'den_cod_casoMPF',\n",
       "       'Tipo_ingreso_MPF', 'org_cod', 'org_descr', 'org_descorta', 'org_den',\n",
       "       'org_descorta_Den', 'org_descr_Den', 'den_flagrante', 'Comuna',\n",
       "       'den_barrio', 'den_calle_id', 'den_cod_postal', 'den_fec_hecho',\n",
       "       'den_fec_ingreso_MPF', 'den_fec_ini_comi', 'den_hora_hecho',\n",
       "       'den_latitud', 'den_longitud', 'den_tipo_den', 'den_loc_id',\n",
       "       'den_sin_lugar_hecho', 'den_v_domestica', 'den_v_genero', 'den_zon_id',\n",
       "       'den_zona', 'filter_.', 'org_destino_act', 'PrimarioDen_id',\n",
       "       'PrimarioDen_id_oju', 'PrimarioExp_id', 'PrimarioExp_oju',\n",
       "       'exp_fechecho_dt'],\n",
       "      dtype='object')"
      ]
     },
     "execution_count": 12,
     "metadata": {},
     "output_type": "execute_result"
    }
   ],
   "source": [
    "df.columns"
   ]
  },
  {
   "cell_type": "code",
   "execution_count": 13,
   "metadata": {},
   "outputs": [
    {
     "data": {
      "text/html": [
       "<div>\n",
       "<style scoped>\n",
       "    .dataframe tbody tr th:only-of-type {\n",
       "        vertical-align: middle;\n",
       "    }\n",
       "\n",
       "    .dataframe tbody tr th {\n",
       "        vertical-align: top;\n",
       "    }\n",
       "\n",
       "    .dataframe thead th {\n",
       "        text-align: right;\n",
       "    }\n",
       "</style>\n",
       "<table border=\"1\" class=\"dataframe\">\n",
       "  <thead>\n",
       "    <tr style=\"text-align: right;\">\n",
       "      <th></th>\n",
       "      <th>causas</th>\n",
       "    </tr>\n",
       "    <tr>\n",
       "      <th>exp_fechecho_dt</th>\n",
       "      <th></th>\n",
       "    </tr>\n",
       "  </thead>\n",
       "  <tbody>\n",
       "    <tr>\n",
       "      <td>1969.0</td>\n",
       "      <td>32</td>\n",
       "    </tr>\n",
       "    <tr>\n",
       "      <td>2006.0</td>\n",
       "      <td>1</td>\n",
       "    </tr>\n",
       "    <tr>\n",
       "      <td>2007.0</td>\n",
       "      <td>1</td>\n",
       "    </tr>\n",
       "    <tr>\n",
       "      <td>2008.0</td>\n",
       "      <td>2</td>\n",
       "    </tr>\n",
       "    <tr>\n",
       "      <td>2009.0</td>\n",
       "      <td>2</td>\n",
       "    </tr>\n",
       "    <tr>\n",
       "      <td>2010.0</td>\n",
       "      <td>4</td>\n",
       "    </tr>\n",
       "    <tr>\n",
       "      <td>2011.0</td>\n",
       "      <td>1</td>\n",
       "    </tr>\n",
       "    <tr>\n",
       "      <td>2012.0</td>\n",
       "      <td>16</td>\n",
       "    </tr>\n",
       "    <tr>\n",
       "      <td>2013.0</td>\n",
       "      <td>66</td>\n",
       "    </tr>\n",
       "    <tr>\n",
       "      <td>2014.0</td>\n",
       "      <td>150</td>\n",
       "    </tr>\n",
       "    <tr>\n",
       "      <td>2015.0</td>\n",
       "      <td>1645</td>\n",
       "    </tr>\n",
       "    <tr>\n",
       "      <td>2016.0</td>\n",
       "      <td>5644</td>\n",
       "    </tr>\n",
       "    <tr>\n",
       "      <td>2017.0</td>\n",
       "      <td>3014</td>\n",
       "    </tr>\n",
       "    <tr>\n",
       "      <td>2018.0</td>\n",
       "      <td>1230</td>\n",
       "    </tr>\n",
       "    <tr>\n",
       "      <td>2019.0</td>\n",
       "      <td>1355</td>\n",
       "    </tr>\n",
       "  </tbody>\n",
       "</table>\n",
       "</div>"
      ],
      "text/plain": [
       "                 causas\n",
       "exp_fechecho_dt        \n",
       "1969.0               32\n",
       "2006.0                1\n",
       "2007.0                1\n",
       "2008.0                2\n",
       "2009.0                2\n",
       "2010.0                4\n",
       "2011.0                1\n",
       "2012.0               16\n",
       "2013.0               66\n",
       "2014.0              150\n",
       "2015.0             1645\n",
       "2016.0             5644\n",
       "2017.0             3014\n",
       "2018.0             1230\n",
       "2019.0             1355"
      ]
     },
     "execution_count": 13,
     "metadata": {},
     "output_type": "execute_result"
    }
   ],
   "source": [
    "df_year_groupby = df.groupby(df['exp_fechecho_dt'].dt.year)\n",
    "df_year_count = df_year_groupby.count()['exp_cuij'].to_frame(name='causas')\n",
    "df_year_count"
   ]
  },
  {
   "cell_type": "code",
   "execution_count": 14,
   "metadata": {},
   "outputs": [
    {
     "data": {
      "image/png": "[encoded data removed]",
      "text/plain": [
       "<Figure size 720x504 with 1 Axes>"
      ]
     },
     "metadata": {
      "needs_background": "light"
     },
     "output_type": "display_data"
    }
   ],
   "source": [
    "anios = ['2015','2016','2017','2018','2019']\n",
    "plt.figure(figsize=(10,7))\n",
    "plt.bar(x=anios,\n",
    "        height=df_year_count.values.flatten()[-5:])\n",
    "year_avg = np.mean(df_year_count.values.flatten()[-5:])\n",
    "plt.plot([year_avg for i in range(5)],c='red')\n",
    "plt.annotate('Promedio: '+str(int(year_avg)),\n",
    "             (3,2700),c='red',fontsize=13,\n",
    "            fontweight='bold')\n",
    "plt.title('Causas por Año')\n",
    "plt.savefig('causas_por_anio.png')\n",
    "plt.show()"
   ]
  },
  {
   "cell_type": "markdown",
   "metadata": {},
   "source": [
    "Estas diferencias entre la cantidad de causas por año muy probablemente se deba a complicaciones en la migración de datos entre bases (como hablamos en la última reunión con Yasmin Quiroga)."
   ]
  },
  {
   "cell_type": "code",
   "execution_count": 15,
   "metadata": {},
   "outputs": [],
   "source": [
    "df_year_count.index = df_year_count.index.astype(int)\n",
    "df_year_count.index = df_year_count.index.astype(str)"
   ]
  },
  {
   "cell_type": "code",
   "execution_count": 16,
   "metadata": {},
   "outputs": [],
   "source": [
    "calendar_level = pd.DataFrame()\n",
    "for i,index in enumerate(calendar.index):\n",
    "    calendar_level.at[i,'fecha'] = index\n",
    "    calendar_level.at[i,'causas'] = calendar[index]\n",
    "    # llevamos el año al type de df_year_count\n",
    "    year = str(index.year)\n",
    "    causas_year = df_year_count.at[year,'causas']\n",
    "    calendar_level.at[i,'causas-level'] = calendar[index] / causas_year"
   ]
  },
  {
   "cell_type": "code",
   "execution_count": 17,
   "metadata": {},
   "outputs": [
    {
     "data": {
      "text/html": [
       "<div>\n",
       "<style scoped>\n",
       "    .dataframe tbody tr th:only-of-type {\n",
       "        vertical-align: middle;\n",
       "    }\n",
       "\n",
       "    .dataframe tbody tr th {\n",
       "        vertical-align: top;\n",
       "    }\n",
       "\n",
       "    .dataframe thead th {\n",
       "        text-align: right;\n",
       "    }\n",
       "</style>\n",
       "<table border=\"1\" class=\"dataframe\">\n",
       "  <thead>\n",
       "    <tr style=\"text-align: right;\">\n",
       "      <th></th>\n",
       "      <th>fecha</th>\n",
       "      <th>causas</th>\n",
       "      <th>causas-level</th>\n",
       "    </tr>\n",
       "  </thead>\n",
       "  <tbody>\n",
       "    <tr>\n",
       "      <td>0</td>\n",
       "      <td>2017-01-01</td>\n",
       "      <td>42.0</td>\n",
       "      <td>0.013935</td>\n",
       "    </tr>\n",
       "    <tr>\n",
       "      <td>1</td>\n",
       "      <td>2016-12-02</td>\n",
       "      <td>32.0</td>\n",
       "      <td>0.005670</td>\n",
       "    </tr>\n",
       "    <tr>\n",
       "      <td>2</td>\n",
       "      <td>2016-01-13</td>\n",
       "      <td>30.0</td>\n",
       "      <td>0.005315</td>\n",
       "    </tr>\n",
       "    <tr>\n",
       "      <td>3</td>\n",
       "      <td>2016-04-14</td>\n",
       "      <td>30.0</td>\n",
       "      <td>0.005315</td>\n",
       "    </tr>\n",
       "    <tr>\n",
       "      <td>4</td>\n",
       "      <td>2016-09-22</td>\n",
       "      <td>29.0</td>\n",
       "      <td>0.005138</td>\n",
       "    </tr>\n",
       "  </tbody>\n",
       "</table>\n",
       "</div>"
      ],
      "text/plain": [
       "       fecha  causas  causas-level\n",
       "0 2017-01-01    42.0      0.013935\n",
       "1 2016-12-02    32.0      0.005670\n",
       "2 2016-01-13    30.0      0.005315\n",
       "3 2016-04-14    30.0      0.005315\n",
       "4 2016-09-22    29.0      0.005138"
      ]
     },
     "execution_count": 17,
     "metadata": {},
     "output_type": "execute_result"
    }
   ],
   "source": [
    "calendar_level.head()"
   ]
  },
  {
   "cell_type": "code",
   "execution_count": 18,
   "metadata": {},
   "outputs": [],
   "source": [
    "calendar_level['fecha'] = pd.to_datetime(calendar_level['fecha'])"
   ]
  },
  {
   "cell_type": "code",
   "execution_count": 19,
   "metadata": {},
   "outputs": [],
   "source": [
    "calendar_level_series = pd.Series(data=calendar_level['causas-level'].values,\n",
    "                                  index=calendar_level['fecha'])"
   ]
  },
  {
   "cell_type": "code",
   "execution_count": 20,
   "metadata": {},
   "outputs": [
    {
     "data": {
      "text/plain": [
       "fecha\n",
       "2017-01-01    0.013935\n",
       "2016-12-02    0.005670\n",
       "2016-01-13    0.005315\n",
       "2016-04-14    0.005315\n",
       "2016-09-22    0.005138\n",
       "dtype: float64"
      ]
     },
     "execution_count": 20,
     "metadata": {},
     "output_type": "execute_result"
    }
   ],
   "source": [
    "calendar_level_series.head()"
   ]
  },
  {
   "cell_type": "markdown",
   "metadata": {},
   "source": [
    "## Autocorrelación por Año"
   ]
  },
  {
   "cell_type": "code",
   "execution_count": 21,
   "metadata": {},
   "outputs": [],
   "source": [
    "def print_autocorr(year):\n",
    "    df = calendar_df[calendar_df['date'].dt.year == year]\n",
    "    print(f'Año: {year}')\n",
    "    print()\n",
    "    calendar_pearson = pearsonr(df['causas'],df['causas-lag'])\n",
    "    print(f'Autocorrelación Pearson: {calendar_pearson[0]}')\n",
    "    print('p-value Pearson: {:.20f}'.format(calendar_pearson[1]))\n",
    "    print()\n",
    "    calendar_spearman = spearmanr(df['causas'],df['causas-lag'])\n",
    "    print(f'Autocorrelación Spearman: {calendar_spearman[0]}')\n",
    "    print('p-value Spearman: {:.20f}'.format(calendar_spearman[1]))\n",
    "    print()\n",
    "    calendar_kendall = kendalltau(df['causas'],df['causas-lag'])\n",
    "    print(f'Autocorrelación Kendall: {calendar_kendall[0]}')\n",
    "    print('p-value Kendall: {:.20f}'.format(calendar_kendall[1]))\n",
    "    print()"
   ]
  },
  {
   "cell_type": "code",
   "execution_count": 23,
   "metadata": {},
   "outputs": [
    {
     "name": "stdout",
     "output_type": "stream",
     "text": [
      "Año: 2015\n",
      "\n",
      "Autocorrelación Pearson: 0.5635521385484641\n",
      "p-value Pearson: 0.00000000000000000000\n",
      "\n",
      "Autocorrelación Spearman: 0.5387646370378005\n",
      "p-value Spearman: 0.00000000000000000000\n",
      "\n",
      "Autocorrelación Kendall: 0.4201137660079833\n",
      "p-value Kendall: 0.00000000000000000000\n",
      "\n",
      "Año: 2016\n",
      "\n",
      "Autocorrelación Pearson: 0.08233417974683208\n",
      "p-value Pearson: 0.10812854934371898818\n",
      "\n",
      "Autocorrelación Spearman: 0.1289239937225562\n",
      "p-value Spearman: 0.01166657927339972284\n",
      "\n",
      "Autocorrelación Kendall: 0.09040777834717546\n",
      "p-value Kendall: 0.01214011078908504813\n",
      "\n",
      "Año: 2017\n",
      "\n",
      "Autocorrelación Pearson: 0.325223529340529\n",
      "p-value Pearson: 0.00000000000000575570\n",
      "\n",
      "Autocorrelación Spearman: 0.26587779398769285\n",
      "p-value Spearman: 0.00000000025487231061\n",
      "\n",
      "Autocorrelación Kendall: 0.204734363674238\n",
      "p-value Kendall: 0.00000000040566572009\n",
      "\n",
      "Año: 2018\n",
      "\n",
      "Autocorrelación Pearson: -0.06267409587008893\n",
      "p-value Pearson: 0.06812203605061163680\n",
      "\n",
      "Autocorrelación Spearman: -0.052860144227395094\n",
      "p-value Spearman: 0.12402037799965434650\n",
      "\n",
      "Autocorrelación Kendall: -0.049026382774035836\n",
      "p-value Kendall: 0.12369680159804696817\n",
      "\n",
      "Año: 2019\n",
      "\n",
      "Autocorrelación Pearson: -0.0402186161146889\n",
      "p-value Pearson: 0.23981416695543536499\n",
      "\n",
      "Autocorrelación Spearman: -0.007400564181011512\n",
      "p-value Spearman: 0.82882530087571748556\n",
      "\n",
      "Autocorrelación Kendall: -0.006744130512631761\n",
      "p-value Kendall: 0.82838072551652497388\n",
      "\n"
     ]
    }
   ],
   "source": [
    "for year in [2015,2016,2017,2018,2019]:\n",
    "    print_autocorr(year)"
   ]
  },
  {
   "cell_type": "markdown",
   "metadata": {},
   "source": [
    "## Autocorrelación: Dickey-Fuller, Ploteo"
   ]
  },
  {
   "cell_type": "code",
   "execution_count": null,
   "metadata": {},
   "outputs": [],
   "source": [
    "import statsmodels.formula.api as smf  \n",
    "import statsmodels.tsa.api as smt\n",
    "import statsmodels.api as sm\n",
    "import scipy.stats as scs"
   ]
  },
  {
   "cell_type": "code",
   "execution_count": null,
   "metadata": {},
   "outputs": [],
   "source": [
    "def tsplot(y, lags=None, figsize=(12, 7), style='bmh', title='Title'):\n",
    "    \"\"\"\n",
    "        Plot time series, its ACF and PACF, calculate Dickey–Fuller test\n",
    "        \n",
    "        y - timeseries\n",
    "        lags - how many lags to include in ACF, PACF calculation\n",
    "    \"\"\"\n",
    "    if not isinstance(y, pd.Series):\n",
    "        y = pd.Series(y)\n",
    "        \n",
    "    with plt.style.context(style):    \n",
    "        fig = plt.figure(figsize=figsize)\n",
    "        layout = (2, 2)\n",
    "        ts_ax = plt.subplot2grid(layout, (0, 0), colspan=2)\n",
    "        acf_ax = plt.subplot2grid(layout, (1, 0))\n",
    "        pacf_ax = plt.subplot2grid(layout, (1, 1))\n",
    "        \n",
    "        y.plot(ax=ts_ax)\n",
    "        p_value = sm.tsa.stattools.adfuller(y)[1]\n",
    "        ts_ax.set_title(title+'\\n Dickey-Fuller: p={0:.5f}'.format(p_value))\n",
    "        smt.graphics.plot_acf(y, lags=lags, ax=acf_ax)\n",
    "        smt.graphics.plot_pacf(y, lags=lags, ax=pacf_ax)\n",
    "        plt.tight_layout()"
   ]
  },
  {
   "cell_type": "code",
   "execution_count": null,
   "metadata": {},
   "outputs": [],
   "source": [
    "for year in [2015,2016,2017,2018,2019]:\n",
    "    series = calendar_df[calendar_df['date'].dt.year == year]['causas']\n",
    "    tsplot(series, lags=10, title='Time Series Año '+str(year))"
   ]
  },
  {
   "cell_type": "markdown",
   "metadata": {},
   "source": [
    "## Estacionalidad: causas por meses"
   ]
  },
  {
   "cell_type": "code",
   "execution_count": null,
   "metadata": {},
   "outputs": [],
   "source": [
    "df_month_groupby = df.groupby(df['exp_fechecho_dt'].dt.month)\n",
    "df_month_count = df_month_groupby.count()['exp_cuij'].to_frame(name='causas')\n",
    "df_month_count"
   ]
  },
  {
   "cell_type": "code",
   "execution_count": null,
   "metadata": {},
   "outputs": [],
   "source": [
    "month_avg = np.mean(df_month_count.values)\n",
    "month_avg"
   ]
  },
  {
   "cell_type": "code",
   "execution_count": null,
   "metadata": {},
   "outputs": [],
   "source": [
    "meses = ['Ene','Feb','Mar','Abr','May','Jun',\n",
    "         'Jul','Ago','Sep','Oct','Nov','Dic']\n",
    "plt.figure(figsize=(15,6))\n",
    "plt.bar(x=meses,\n",
    "        height=df_month_count.values.flatten())\n",
    "plt.plot([month_avg for i in range(12)],c='red')\n",
    "plt.annotate('Promedio: '+str(int(month_avg)),\n",
    "             (9,1120),c='red',fontsize=13,\n",
    "            fontweight='bold')\n",
    "plt.title('Causas por Mes')\n",
    "plt.savefig('causas_por_mes.png')\n",
    "plt.show()"
   ]
  },
  {
   "cell_type": "markdown",
   "metadata": {},
   "source": [
    "No parece haber fuerte estacionalidad en los meses (faltaría un test formal)."
   ]
  },
  {
   "cell_type": "markdown",
   "metadata": {},
   "source": [
    "## Estacionalidad: causas por dias"
   ]
  },
  {
   "cell_type": "code",
   "execution_count": null,
   "metadata": {},
   "outputs": [],
   "source": [
    "df_weekday_groupby = df.groupby(df['exp_fechecho_dt'].dt.weekday)\n",
    "df_weekday_count = df_weekday_groupby.count()['exp_cuij'].to_frame(name='causas')\n",
    "df_weekday_count"
   ]
  },
  {
   "cell_type": "code",
   "execution_count": null,
   "metadata": {},
   "outputs": [],
   "source": [
    "weekday_avg = np.mean(df_weekday_count.values)\n",
    "weekday_avg"
   ]
  },
  {
   "cell_type": "code",
   "execution_count": null,
   "metadata": {},
   "outputs": [],
   "source": [
    "dias = ['Lun','Mar','Mie','Jue','Vie','Sab','Dom']\n",
    "plt.figure(figsize=(15,6))\n",
    "plt.bar(x=dias,\n",
    "        height=df_weekday_count.values.flatten())\n",
    "plt.plot([weekday_avg for i in range(7)],c='red')\n",
    "plt.annotate('Promedio: '+str(int(weekday_avg)),\n",
    "             (5,1900),c='red',fontsize=13,\n",
    "            fontweight='bold')\n",
    "plt.title('Causas por Mes')\n",
    "plt.savefig('causas_por_mes.png')\n",
    "plt.show()"
   ]
  },
  {
   "cell_type": "markdown",
   "metadata": {},
   "source": [
    "No parece haber fuerte estacionalidad en los días de la semana."
   ]
  },
  {
   "cell_type": "markdown",
   "metadata": {},
   "source": [
    "## Discusión Conceptual"
   ]
  },
  {
   "cell_type": "markdown",
   "metadata": {},
   "source": [
    "- Autocorrelación temporal: modelos empíricos, componente teórico débil (inercia). No aplicaría en nuestro caso. El origen puede estar en la captación de datos? (lo hablamos en la última call, lo sugiere Martina en la minuta).\n",
    "- Autocorrelación espacial: muy utilizada en criminología. Problema econométrico de selection bias. Teoría relacionada: broken window (no confundir con Rudolph Giuliani).\n",
    "- Autocorrelación temporal en criminología: efecto contagio (cómo operaría?)"
   ]
  },
  {
   "cell_type": "markdown",
   "metadata": {},
   "source": [
    "## Expedientes"
   ]
  },
  {
   "cell_type": "code",
   "execution_count": null,
   "metadata": {},
   "outputs": [],
   "source": [
    "# separo exp_cuij en tres columnas\n",
    "for i in df.index:\n",
    "    df.at[i,'exp_cuij_1'] = df.at[i,'exp_cuij'][0:2]\n",
    "    df.at[i,'exp_cuij_2'] = df.at[i,'exp_cuij'][3:11]\n",
    "    df.at[i,'exp_cuij_3'] = df.at[i,'exp_cuij'][12:13]"
   ]
  },
  {
   "cell_type": "code",
   "execution_count": null,
   "metadata": {},
   "outputs": [],
   "source": [
    "df.shape"
   ]
  },
  {
   "cell_type": "code",
   "execution_count": null,
   "metadata": {},
   "outputs": [],
   "source": [
    "# expedientes unicos segun exp_cuij\n",
    "df['exp_cuij_2'].unique().shape"
   ]
  },
  {
   "cell_type": "code",
   "execution_count": null,
   "metadata": {},
   "outputs": [],
   "source": [
    "# expedientes unicos segun exp_id\n",
    "df['exp_id'].unique().shape"
   ]
  }
 ],
 "metadata": {
  "kernelspec": {
   "display_name": "Python 3",
   "language": "python",
   "name": "python3"
  },
  "language_info": {
   "codemirror_mode": {
    "name": "ipython",
    "version": 3
   },
   "file_extension": ".py",
   "mimetype": "text/x-python",
   "name": "python",
   "nbconvert_exporter": "python",
   "pygments_lexer": "ipython3",
   "version": "3.7.4"
  }
 },
 "nbformat": 4,
 "nbformat_minor": 2
}
