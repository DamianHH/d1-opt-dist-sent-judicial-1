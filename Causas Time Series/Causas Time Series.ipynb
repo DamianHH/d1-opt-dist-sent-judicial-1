{
 "cells": [
  {
   "cell_type": "markdown",
   "metadata": {},
   "source": [
    "# JuzData: proceso de generacion de hechos - analisis temporal"
   ]
  },
  {
   "cell_type": "markdown",
   "metadata": {},
   "source": [
    "En el presente notebook se analiza la columna 'exp_fechecho' de nuestro dataset, que contiene las fechas de los hechos que motivaron las causas judiciales. En consecuencia no vamos a meternos con el proceso de distribucion de causas, sino unicamente con su generacion; en particular, me interesa analizar si existe estacionalidad y autocorrelacion temporal en el proceso. \n",
    "\n",
    "Esta forma de mirar el problema es interesante para el desafío por dos razones: (1) en sí mismo, en la medida en que conocer el patrón temporal de generación de las hechos nos ayuda a entender mejor la estructura del fenómeno de conflictividad social que da lugar a las causas; y porque (2) entender el proceso desde su estructura temporal es clave para analizar la conveniencia de usar el tiempo como un factor de distribución y cómo afectaría eso la uniformidad entre juzgados.  "
   ]
  },
  {
   "cell_type": "code",
   "execution_count": 1,
   "metadata": {},
   "outputs": [],
   "source": [
    "import numpy as np\n",
    "import pandas as pd\n",
    "import matplotlib.pyplot as plt\n",
    "import seaborn as sns\n",
    "import calmap\n",
    "import warnings\n",
    "warnings.filterwarnings('ignore')"
   ]
  },
  {
   "cell_type": "code",
   "execution_count": 2,
   "metadata": {},
   "outputs": [],
   "source": [
    "df = pd.read_excel('penal_df_fec.xlsx')"
   ]
  },
  {
   "cell_type": "code",
   "execution_count": 3,
   "metadata": {},
   "outputs": [
    {
     "data": {
      "text/html": [
       "<div>\n",
       "<style scoped>\n",
       "    .dataframe tbody tr th:only-of-type {\n",
       "        vertical-align: middle;\n",
       "    }\n",
       "\n",
       "    .dataframe tbody tr th {\n",
       "        vertical-align: top;\n",
       "    }\n",
       "\n",
       "    .dataframe thead th {\n",
       "        text-align: right;\n",
       "    }\n",
       "</style>\n",
       "<table border=\"1\" class=\"dataframe\">\n",
       "  <thead>\n",
       "    <tr style=\"text-align: right;\">\n",
       "      <th></th>\n",
       "      <th>exp_fechecho</th>\n",
       "      <th>exp_fechecho_dt</th>\n",
       "    </tr>\n",
       "  </thead>\n",
       "  <tbody>\n",
       "    <tr>\n",
       "      <td>0</td>\n",
       "      <td>17/2/2014 00:00</td>\n",
       "      <td>2014-02-17</td>\n",
       "    </tr>\n",
       "    <tr>\n",
       "      <td>1</td>\n",
       "      <td>NaN</td>\n",
       "      <td>NaT</td>\n",
       "    </tr>\n",
       "    <tr>\n",
       "      <td>2</td>\n",
       "      <td>2014-03-12 00:00:00</td>\n",
       "      <td>2014-03-12</td>\n",
       "    </tr>\n",
       "    <tr>\n",
       "      <td>3</td>\n",
       "      <td>13/4/2015 00:00</td>\n",
       "      <td>2015-04-13</td>\n",
       "    </tr>\n",
       "    <tr>\n",
       "      <td>4</td>\n",
       "      <td>14/5/2015 00:00</td>\n",
       "      <td>2015-05-14</td>\n",
       "    </tr>\n",
       "    <tr>\n",
       "      <td>5</td>\n",
       "      <td>2015-01-08 00:00:00</td>\n",
       "      <td>2015-01-08</td>\n",
       "    </tr>\n",
       "    <tr>\n",
       "      <td>6</td>\n",
       "      <td>NaN</td>\n",
       "      <td>NaT</td>\n",
       "    </tr>\n",
       "    <tr>\n",
       "      <td>7</td>\n",
       "      <td>15/7/2015 00:00</td>\n",
       "      <td>2015-07-15</td>\n",
       "    </tr>\n",
       "    <tr>\n",
       "      <td>8</td>\n",
       "      <td>14/5/2015 00:00</td>\n",
       "      <td>2015-05-14</td>\n",
       "    </tr>\n",
       "    <tr>\n",
       "      <td>9</td>\n",
       "      <td>NaN</td>\n",
       "      <td>NaT</td>\n",
       "    </tr>\n",
       "  </tbody>\n",
       "</table>\n",
       "</div>"
      ],
      "text/plain": [
       "          exp_fechecho exp_fechecho_dt\n",
       "0      17/2/2014 00:00      2014-02-17\n",
       "1                  NaN             NaT\n",
       "2  2014-03-12 00:00:00      2014-03-12\n",
       "3      13/4/2015 00:00      2015-04-13\n",
       "4      14/5/2015 00:00      2015-05-14\n",
       "5  2015-01-08 00:00:00      2015-01-08\n",
       "6                  NaN             NaT\n",
       "7      15/7/2015 00:00      2015-07-15\n",
       "8      14/5/2015 00:00      2015-05-14\n",
       "9                  NaN             NaT"
      ]
     },
     "execution_count": 3,
     "metadata": {},
     "output_type": "execute_result"
    }
   ],
   "source": [
    "df['exp_fechecho_dt'] = pd.to_datetime(df['exp_fechecho'])\n",
    "df[['exp_fechecho','exp_fechecho_dt']].head(10)"
   ]
  },
  {
   "cell_type": "code",
   "execution_count": 4,
   "metadata": {},
   "outputs": [],
   "source": [
    "# convierto 'unknown' en NaN para contabilizar\n",
    "import itertools as it\n",
    "for i, col in it.product(df.index,df.columns):\n",
    "    if df.at[i,col] == 'unknown':\n",
    "        df.at[i,col] = np.nan"
   ]
  },
  {
   "cell_type": "code",
   "execution_count": 5,
   "metadata": {},
   "outputs": [
    {
     "data": {
      "text/plain": [
       "13163"
      ]
     },
     "execution_count": 5,
     "metadata": {},
     "output_type": "execute_result"
    }
   ],
   "source": [
    "df['exp_fechecho_dt'].notna().sum()"
   ]
  },
  {
   "cell_type": "code",
   "execution_count": 6,
   "metadata": {},
   "outputs": [
    {
     "data": {
      "text/plain": [
       "2017-01-01    42\n",
       "2016-12-02    32\n",
       "2016-01-13    30\n",
       "2016-04-14    30\n",
       "2016-09-22    29\n",
       "Name: exp_fechecho_dt, dtype: int64"
      ]
     },
     "execution_count": 6,
     "metadata": {},
     "output_type": "execute_result"
    }
   ],
   "source": [
    "calendar = df['exp_fechecho_dt'].value_counts()\n",
    "calendar.head()"
   ]
  },
  {
   "cell_type": "markdown",
   "metadata": {},
   "source": [
    "## Analisis por año"
   ]
  },
  {
   "cell_type": "code",
   "execution_count": 7,
   "metadata": {},
   "outputs": [
    {
     "data": {
      "text/plain": [
       "Index(['org_idradactual', 'exp_cuij', 'org_idintpri', 'org_cod_pri',\n",
       "       'org_descorta_pri', 'org_descr_Pri', 'org_idintseg', 'est_id',\n",
       "       'est_descr', 'exp_anio', 'exp_cuerpos', 'exp_fojas', 'exp_detenidos',\n",
       "       'exp_id', 'exp_sufijo', 'exp_fechecho', 'exp_fecinidem', 'exp_fecini',\n",
       "       'exp_fecreg', 'exp_fecsor', 'exp_fecelev', 'exp_letra', 'oju_id',\n",
       "       'oju_descr', 'exp_ultmov', 'exp_ultmovf', 'den_id', 'den_cod_casoMPF',\n",
       "       'Tipo_ingreso_MPF', 'org_cod', 'org_descr', 'org_descorta', 'org_den',\n",
       "       'org_descorta_Den', 'org_descr_Den', 'den_flagrante', 'Comuna',\n",
       "       'den_barrio', 'den_calle_id', 'den_cod_postal', 'den_fec_hecho',\n",
       "       'den_fec_ingreso_MPF', 'den_fec_ini_comi', 'den_hora_hecho',\n",
       "       'den_latitud', 'den_longitud', 'den_tipo_den', 'den_loc_id',\n",
       "       'den_sin_lugar_hecho', 'den_v_domestica', 'den_v_genero', 'den_zon_id',\n",
       "       'den_zona', 'filter_.', 'org_destino_act', 'PrimarioDen_id',\n",
       "       'PrimarioDen_id_oju', 'PrimarioExp_id', 'PrimarioExp_oju',\n",
       "       'exp_fechecho_dt'],\n",
       "      dtype='object')"
      ]
     },
     "execution_count": 7,
     "metadata": {},
     "output_type": "execute_result"
    }
   ],
   "source": [
    "df.columns"
   ]
  },
  {
   "cell_type": "code",
   "execution_count": 8,
   "metadata": {},
   "outputs": [
    {
     "data": {
      "text/html": [
       "<div>\n",
       "<style scoped>\n",
       "    .dataframe tbody tr th:only-of-type {\n",
       "        vertical-align: middle;\n",
       "    }\n",
       "\n",
       "    .dataframe tbody tr th {\n",
       "        vertical-align: top;\n",
       "    }\n",
       "\n",
       "    .dataframe thead th {\n",
       "        text-align: right;\n",
       "    }\n",
       "</style>\n",
       "<table border=\"1\" class=\"dataframe\">\n",
       "  <thead>\n",
       "    <tr style=\"text-align: right;\">\n",
       "      <th></th>\n",
       "      <th>hechos</th>\n",
       "    </tr>\n",
       "    <tr>\n",
       "      <th>exp_fechecho_dt</th>\n",
       "      <th></th>\n",
       "    </tr>\n",
       "  </thead>\n",
       "  <tbody>\n",
       "    <tr>\n",
       "      <td>1969.0</td>\n",
       "      <td>32</td>\n",
       "    </tr>\n",
       "    <tr>\n",
       "      <td>2006.0</td>\n",
       "      <td>1</td>\n",
       "    </tr>\n",
       "    <tr>\n",
       "      <td>2007.0</td>\n",
       "      <td>1</td>\n",
       "    </tr>\n",
       "    <tr>\n",
       "      <td>2008.0</td>\n",
       "      <td>2</td>\n",
       "    </tr>\n",
       "    <tr>\n",
       "      <td>2009.0</td>\n",
       "      <td>2</td>\n",
       "    </tr>\n",
       "    <tr>\n",
       "      <td>2010.0</td>\n",
       "      <td>4</td>\n",
       "    </tr>\n",
       "    <tr>\n",
       "      <td>2011.0</td>\n",
       "      <td>1</td>\n",
       "    </tr>\n",
       "    <tr>\n",
       "      <td>2012.0</td>\n",
       "      <td>16</td>\n",
       "    </tr>\n",
       "    <tr>\n",
       "      <td>2013.0</td>\n",
       "      <td>66</td>\n",
       "    </tr>\n",
       "    <tr>\n",
       "      <td>2014.0</td>\n",
       "      <td>150</td>\n",
       "    </tr>\n",
       "    <tr>\n",
       "      <td>2015.0</td>\n",
       "      <td>1645</td>\n",
       "    </tr>\n",
       "    <tr>\n",
       "      <td>2016.0</td>\n",
       "      <td>5644</td>\n",
       "    </tr>\n",
       "    <tr>\n",
       "      <td>2017.0</td>\n",
       "      <td>3014</td>\n",
       "    </tr>\n",
       "    <tr>\n",
       "      <td>2018.0</td>\n",
       "      <td>1230</td>\n",
       "    </tr>\n",
       "    <tr>\n",
       "      <td>2019.0</td>\n",
       "      <td>1355</td>\n",
       "    </tr>\n",
       "  </tbody>\n",
       "</table>\n",
       "</div>"
      ],
      "text/plain": [
       "                 hechos\n",
       "exp_fechecho_dt        \n",
       "1969.0               32\n",
       "2006.0                1\n",
       "2007.0                1\n",
       "2008.0                2\n",
       "2009.0                2\n",
       "2010.0                4\n",
       "2011.0                1\n",
       "2012.0               16\n",
       "2013.0               66\n",
       "2014.0              150\n",
       "2015.0             1645\n",
       "2016.0             5644\n",
       "2017.0             3014\n",
       "2018.0             1230\n",
       "2019.0             1355"
      ]
     },
     "execution_count": 8,
     "metadata": {},
     "output_type": "execute_result"
    }
   ],
   "source": [
    "df_year_groupby = df.groupby(df['exp_fechecho_dt'].dt.year)\n",
    "df_year_count = df_year_groupby.count()['exp_cuij'].to_frame(name='hechos')\n",
    "df_year_count"
   ]
  },
  {
   "cell_type": "code",
   "execution_count": 9,
   "metadata": {},
   "outputs": [
    {
     "data": {
      "image/png": "[encoded data removed]",
      "text/plain": [
       "<Figure size 720x504 with 1 Axes>"
      ]
     },
     "metadata": {
      "needs_background": "light"
     },
     "output_type": "display_data"
    }
   ],
   "source": [
    "anios = ['2015','2016','2017','2018','2019']\n",
    "plt.figure(figsize=(10,7))\n",
    "plt.bar(x=anios,\n",
    "        height=df_year_count.values.flatten()[-5:])\n",
    "year_avg = np.mean(df_year_count.values.flatten()[-5:])\n",
    "plt.plot([year_avg for i in range(5)],c='red')\n",
    "plt.annotate('Promedio: '+str(int(year_avg)),\n",
    "             (3,2700),c='red',fontsize=13,\n",
    "            fontweight='bold')\n",
    "plt.title('Hechos por Año')\n",
    "plt.savefig('hechos_por_anio.png')\n",
    "plt.show()"
   ]
  },
  {
   "cell_type": "markdown",
   "metadata": {},
   "source": [
    "Estas diferencias entre la cantidad de hechos por año muy probablemente se deba a complicaciones en la migración de datos entre bases (lo hablamos en la última reunión con Yasmin Quiroga)."
   ]
  },
  {
   "cell_type": "code",
   "execution_count": 10,
   "metadata": {},
   "outputs": [],
   "source": [
    "df_year_count.index = df_year_count.index.astype(int)\n",
    "df_year_count.index = df_year_count.index.astype(str)"
   ]
  },
  {
   "cell_type": "code",
   "execution_count": 11,
   "metadata": {},
   "outputs": [],
   "source": [
    "calendar_level = pd.DataFrame()\n",
    "for i,index in enumerate(calendar.index):\n",
    "    calendar_level.at[i,'fecha'] = index\n",
    "    calendar_level.at[i,'hechos'] = calendar[index]\n",
    "    # llevamos el año al type de df_year_count\n",
    "    year = str(index.year)\n",
    "    causas_year = df_year_count.at[year,'hechos']\n",
    "    calendar_level.at[i,'hechos-level'] = calendar[index] / causas_year"
   ]
  },
  {
   "cell_type": "code",
   "execution_count": 12,
   "metadata": {},
   "outputs": [
    {
     "data": {
      "text/html": [
       "<div>\n",
       "<style scoped>\n",
       "    .dataframe tbody tr th:only-of-type {\n",
       "        vertical-align: middle;\n",
       "    }\n",
       "\n",
       "    .dataframe tbody tr th {\n",
       "        vertical-align: top;\n",
       "    }\n",
       "\n",
       "    .dataframe thead th {\n",
       "        text-align: right;\n",
       "    }\n",
       "</style>\n",
       "<table border=\"1\" class=\"dataframe\">\n",
       "  <thead>\n",
       "    <tr style=\"text-align: right;\">\n",
       "      <th></th>\n",
       "      <th>fecha</th>\n",
       "      <th>hechos</th>\n",
       "      <th>hechos-level</th>\n",
       "    </tr>\n",
       "  </thead>\n",
       "  <tbody>\n",
       "    <tr>\n",
       "      <td>0</td>\n",
       "      <td>2017-01-01</td>\n",
       "      <td>42.0</td>\n",
       "      <td>0.013935</td>\n",
       "    </tr>\n",
       "    <tr>\n",
       "      <td>1</td>\n",
       "      <td>2016-12-02</td>\n",
       "      <td>32.0</td>\n",
       "      <td>0.005670</td>\n",
       "    </tr>\n",
       "    <tr>\n",
       "      <td>2</td>\n",
       "      <td>2016-01-13</td>\n",
       "      <td>30.0</td>\n",
       "      <td>0.005315</td>\n",
       "    </tr>\n",
       "    <tr>\n",
       "      <td>3</td>\n",
       "      <td>2016-04-14</td>\n",
       "      <td>30.0</td>\n",
       "      <td>0.005315</td>\n",
       "    </tr>\n",
       "    <tr>\n",
       "      <td>4</td>\n",
       "      <td>2016-09-22</td>\n",
       "      <td>29.0</td>\n",
       "      <td>0.005138</td>\n",
       "    </tr>\n",
       "  </tbody>\n",
       "</table>\n",
       "</div>"
      ],
      "text/plain": [
       "       fecha  hechos  hechos-level\n",
       "0 2017-01-01    42.0      0.013935\n",
       "1 2016-12-02    32.0      0.005670\n",
       "2 2016-01-13    30.0      0.005315\n",
       "3 2016-04-14    30.0      0.005315\n",
       "4 2016-09-22    29.0      0.005138"
      ]
     },
     "execution_count": 12,
     "metadata": {},
     "output_type": "execute_result"
    }
   ],
   "source": [
    "calendar_level.head()"
   ]
  },
  {
   "cell_type": "code",
   "execution_count": 13,
   "metadata": {},
   "outputs": [],
   "source": [
    "calendar_level['fecha'] = pd.to_datetime(calendar_level['fecha'])"
   ]
  },
  {
   "cell_type": "code",
   "execution_count": 14,
   "metadata": {},
   "outputs": [],
   "source": [
    "calendar_level_series = pd.Series(data=calendar_level['hechos-level'].values,\n",
    "                                  index=calendar_level['fecha'])"
   ]
  },
  {
   "cell_type": "code",
   "execution_count": 15,
   "metadata": {},
   "outputs": [
    {
     "data": {
      "text/plain": [
       "fecha\n",
       "2017-01-01    0.013935\n",
       "2016-12-02    0.005670\n",
       "2016-01-13    0.005315\n",
       "2016-04-14    0.005315\n",
       "2016-09-22    0.005138\n",
       "dtype: float64"
      ]
     },
     "execution_count": 15,
     "metadata": {},
     "output_type": "execute_result"
    }
   ],
   "source": [
    "calendar_level_series.head()"
   ]
  },
  {
   "cell_type": "markdown",
   "metadata": {},
   "source": [
    "## Autocorrelación temporal"
   ]
  },
  {
   "cell_type": "code",
   "execution_count": 16,
   "metadata": {},
   "outputs": [
    {
     "data": {
      "image/png": "[encoded data removed]",
      "text/plain": [
       "<Figure size 1080x720 with 1 Axes>"
      ]
     },
     "metadata": {
      "needs_background": "light"
     },
     "output_type": "display_data"
    },
    {
     "data": {
      "image/png": "[encoded data removed]",
      "text/plain": [
       "<Figure size 1080x720 with 1 Axes>"
      ]
     },
     "metadata": {
      "needs_background": "light"
     },
     "output_type": "display_data"
    },
    {
     "data": {
      "image/png": "[encoded data removed]",
      "text/plain": [
       "<Figure size 1080x720 with 1 Axes>"
      ]
     },
     "metadata": {
      "needs_background": "light"
     },
     "output_type": "display_data"
    },
    {
     "data": {
      "image/png": "[encoded data removed]",
      "text/plain": [
       "<Figure size 1080x720 with 1 Axes>"
      ]
     },
     "metadata": {
      "needs_background": "light"
     },
     "output_type": "display_data"
    },
    {
     "data": {
      "image/png": "[encoded data removed]",
      "text/plain": [
       "<Figure size 1080x720 with 1 Axes>"
      ]
     },
     "metadata": {
      "needs_background": "light"
     },
     "output_type": "display_data"
    }
   ],
   "source": [
    "years = [2015,2016,2017,2018,2019]\n",
    "dias = ['Lun','Mar','Mie','Jue','Vie','Sab','Dom']\n",
    "meses = ['Ene','Feb','Mar','Abr','May','Jun','Jul',\n",
    "        'Ago','Sep','Oct','Nov','Dic']\n",
    "for year in years:\n",
    "    plt.figure(figsize=(15,10))\n",
    "    calmap.yearplot(calendar, year=year,\n",
    "                    daylabels=dias,\n",
    "                   monthlabels=meses)\n",
    "    plt.title(str(year) + ' - Hechos por dia')\n",
    "    file_name = 'calendar_heatmap_'+str(year)+'.png'\n",
    "    plt.savefig(file_name)\n",
    "    plt.show()"
   ]
  },
  {
   "cell_type": "markdown",
   "metadata": {},
   "source": [
    "Que se puede ver en estos heatmaps: no parece haber una marcada estacionalidad (ver analisis mas abajo); el año 2016 presenta muchas mas causas que los demas (ver detalle abajo); y, lo que es mas importante a nuestros fines, se registra una tendencia a la autocorrelacion temporal de la cantidad de causas (lo que se aprecia visualmente en los clusters de más o menor intensidad de color). Esto significa que los hechos que dan lugar a causas se agrupan en clusters temporales (como ya vimos que lo hacen geográficamente)."
   ]
  },
  {
   "cell_type": "code",
   "execution_count": 17,
   "metadata": {},
   "outputs": [
    {
     "data": {
      "text/html": [
       "<div>\n",
       "<style scoped>\n",
       "    .dataframe tbody tr th:only-of-type {\n",
       "        vertical-align: middle;\n",
       "    }\n",
       "\n",
       "    .dataframe tbody tr th {\n",
       "        vertical-align: top;\n",
       "    }\n",
       "\n",
       "    .dataframe thead th {\n",
       "        text-align: right;\n",
       "    }\n",
       "</style>\n",
       "<table border=\"1\" class=\"dataframe\">\n",
       "  <thead>\n",
       "    <tr style=\"text-align: right;\">\n",
       "      <th></th>\n",
       "      <th>index</th>\n",
       "      <th>exp_fechecho_dt</th>\n",
       "    </tr>\n",
       "  </thead>\n",
       "  <tbody>\n",
       "    <tr>\n",
       "      <td>0</td>\n",
       "      <td>2017-01-01</td>\n",
       "      <td>42</td>\n",
       "    </tr>\n",
       "    <tr>\n",
       "      <td>1</td>\n",
       "      <td>2016-12-02</td>\n",
       "      <td>32</td>\n",
       "    </tr>\n",
       "    <tr>\n",
       "      <td>2</td>\n",
       "      <td>2016-01-13</td>\n",
       "      <td>30</td>\n",
       "    </tr>\n",
       "    <tr>\n",
       "      <td>3</td>\n",
       "      <td>2016-04-14</td>\n",
       "      <td>30</td>\n",
       "    </tr>\n",
       "    <tr>\n",
       "      <td>4</td>\n",
       "      <td>2016-09-22</td>\n",
       "      <td>29</td>\n",
       "    </tr>\n",
       "  </tbody>\n",
       "</table>\n",
       "</div>"
      ],
      "text/plain": [
       "       index  exp_fechecho_dt\n",
       "0 2017-01-01               42\n",
       "1 2016-12-02               32\n",
       "2 2016-01-13               30\n",
       "3 2016-04-14               30\n",
       "4 2016-09-22               29"
      ]
     },
     "execution_count": 17,
     "metadata": {},
     "output_type": "execute_result"
    }
   ],
   "source": [
    "# llevamos series a df\n",
    "calendar_df = calendar.to_frame()\n",
    "calendar_df = calendar_df.reset_index(drop=False)\n",
    "calendar_df.head()"
   ]
  },
  {
   "cell_type": "code",
   "execution_count": 18,
   "metadata": {},
   "outputs": [
    {
     "data": {
      "text/plain": [
       "Timestamp('2015-01-01 00:00:00')"
      ]
     },
     "execution_count": 18,
     "metadata": {},
     "output_type": "execute_result"
    }
   ],
   "source": [
    "year = pd.to_datetime('1/1/2015')\n",
    "year"
   ]
  },
  {
   "cell_type": "code",
   "execution_count": 19,
   "metadata": {},
   "outputs": [
    {
     "data": {
      "text/html": [
       "<div>\n",
       "<style scoped>\n",
       "    .dataframe tbody tr th:only-of-type {\n",
       "        vertical-align: middle;\n",
       "    }\n",
       "\n",
       "    .dataframe tbody tr th {\n",
       "        vertical-align: top;\n",
       "    }\n",
       "\n",
       "    .dataframe thead th {\n",
       "        text-align: right;\n",
       "    }\n",
       "</style>\n",
       "<table border=\"1\" class=\"dataframe\">\n",
       "  <thead>\n",
       "    <tr style=\"text-align: right;\">\n",
       "      <th></th>\n",
       "      <th>date</th>\n",
       "      <th>hechos</th>\n",
       "    </tr>\n",
       "  </thead>\n",
       "  <tbody>\n",
       "    <tr>\n",
       "      <td>203</td>\n",
       "      <td>2015-01-01</td>\n",
       "      <td>2</td>\n",
       "    </tr>\n",
       "    <tr>\n",
       "      <td>204</td>\n",
       "      <td>2015-01-03</td>\n",
       "      <td>3</td>\n",
       "    </tr>\n",
       "    <tr>\n",
       "      <td>205</td>\n",
       "      <td>2015-01-04</td>\n",
       "      <td>5</td>\n",
       "    </tr>\n",
       "    <tr>\n",
       "      <td>206</td>\n",
       "      <td>2015-01-05</td>\n",
       "      <td>2</td>\n",
       "    </tr>\n",
       "    <tr>\n",
       "      <td>207</td>\n",
       "      <td>2015-01-06</td>\n",
       "      <td>3</td>\n",
       "    </tr>\n",
       "  </tbody>\n",
       "</table>\n",
       "</div>"
      ],
      "text/plain": [
       "          date  hechos\n",
       "203 2015-01-01       2\n",
       "204 2015-01-03       3\n",
       "205 2015-01-04       5\n",
       "206 2015-01-05       2\n",
       "207 2015-01-06       3"
      ]
     },
     "execution_count": 19,
     "metadata": {},
     "output_type": "execute_result"
    }
   ],
   "source": [
    "# renombramos\n",
    "calendar_df = calendar_df.rename(columns={'index':'date','exp_fechecho_dt':'hechos'})\n",
    "# reordenamos por fecha, reseteamos el indice\n",
    "calendar_df = calendar_df.sort_values(by='date').reset_index(drop=True)\n",
    "# filtramos desde 2015\n",
    "year_filter = pd.to_datetime('1/1/2015')\n",
    "calendar_df = calendar_df[calendar_df['date'] >= year_filter]\n",
    "calendar_df.head()"
   ]
  },
  {
   "cell_type": "markdown",
   "metadata": {},
   "source": [
    "Con esta serie armada, podemos visualizar el time series chart"
   ]
  },
  {
   "cell_type": "code",
   "execution_count": 20,
   "metadata": {},
   "outputs": [
    {
     "data": {
      "image/png": "[encoded data removed]",
      "text/plain": [
       "<Figure size 1224x360 with 1 Axes>"
      ]
     },
     "metadata": {
      "needs_background": "light"
     },
     "output_type": "display_data"
    }
   ],
   "source": [
    "plt.figure(figsize=(17,5))\n",
    "plt.plot(calendar_df['date'],calendar_df['hechos'])\n",
    "plt.show()"
   ]
  },
  {
   "cell_type": "markdown",
   "metadata": {},
   "source": [
    "En el chart se ven algunas de las cualidades generales del proceso: muchas más causas en 2016 (probablemente vinculada con un tema de carga de datos, como hablamos con Yasmín Quiroga en el último encuentro), proceso ruidoso en 2015 y más estable (en su variabilidad) en el 2017, y el 2018 y 2019 con menor cantidad de datos."
   ]
  },
  {
   "cell_type": "markdown",
   "metadata": {},
   "source": [
    "Para visualizar la autocorrelación, aparte del heatmap, lo mejor es un scatter (en el eje y, la cantidad de hechos laggeados)"
   ]
  },
  {
   "cell_type": "code",
   "execution_count": 21,
   "metadata": {},
   "outputs": [
    {
     "data": {
      "image/png": "[encoded data removed]",
      "text/plain": [
       "<Figure size 432x288 with 1 Axes>"
      ]
     },
     "metadata": {
      "needs_background": "light"
     },
     "output_type": "display_data"
    }
   ],
   "source": [
    "plt.scatter(calendar_df['hechos'],\n",
    "            calendar_df['hechos'].shift(-1),)\n",
    "plt.show()"
   ]
  },
  {
   "cell_type": "markdown",
   "metadata": {},
   "source": [
    "El chart parece indicar una correlación positiva, y además el hecho de que los días que tienen un solo hecho parecen tener un comportamiento diferenciado de los demás. Tendremos en cuenta este insight en lo que sigue. Así se ve nuestro scatter filtrando precisamente esos dias."
   ]
  },
  {
   "cell_type": "code",
   "execution_count": 22,
   "metadata": {},
   "outputs": [
    {
     "data": {
      "image/png": "[encoded data removed]",
      "text/plain": [
       "<Figure size 432x288 with 1 Axes>"
      ]
     },
     "metadata": {
      "needs_background": "light"
     },
     "output_type": "display_data"
    }
   ],
   "source": [
    "hechos_mayores1 = calendar_df[calendar_df['hechos'] > 1]['hechos']\n",
    "plt.scatter(hechos_mayores1,\n",
    "            hechos_mayores1.shift(-1),)\n",
    "plt.show()"
   ]
  },
  {
   "cell_type": "markdown",
   "metadata": {},
   "source": [
    "## Análisis de autocorrelación"
   ]
  },
  {
   "cell_type": "markdown",
   "metadata": {},
   "source": [
    "A continuación vamos a desarrollar funciones para calcular los valores de autocorrelación con cuatro medidas: \n",
    "- Pearson (correlación paramétrica tradicional): cociente entre la covarianza y el producto de los desvíos de dos series de datos.\n",
    "- rho de Spearman (correlación de rangos, no paramétrica): rankea las observaciones de las series y calcula la correlación de Pearson de dicho ranking.\n",
    "- tau de Kendall (correlación de rangos, no paramétrica): también analiza la correlación ordinal, utilizando comparaciones entre pares de observaciones (estudiando si son concordantes o discordantes, i.e., si las dos series varían en la misma dirección o no).\n",
    "- Autocorrelación parcial: regresión de una serie sobre sus valores laggeados, se utiliza en la metodología Box-Jenkins."
   ]
  },
  {
   "cell_type": "code",
   "execution_count": 23,
   "metadata": {},
   "outputs": [],
   "source": [
    "from scipy.stats import pearsonr, spearmanr, kendalltau"
   ]
  },
  {
   "cell_type": "markdown",
   "metadata": {},
   "source": [
    "Definimos una función para cálculo de autocorrelaciones y p-values correspondientes, es sus tres versiones."
   ]
  },
  {
   "cell_type": "code",
   "execution_count": 24,
   "metadata": {},
   "outputs": [],
   "source": [
    "def auto_corr(corr_function, series, \n",
    "              lags = 7, name='',\n",
    "              alpha = 0.05):\n",
    "    \"\"\"\n",
    "        Calcula autocorrelación y p-values correspondientes para la función de\n",
    "        correlación especificada.\n",
    "        \n",
    "        corr_function - función de correlación: pearsonr, spearmanr, kendalltau\n",
    "        series - serie de tiempo a analizar\n",
    "        lags - cuantos períodos considerar\n",
    "        name - nombre de la función para dataframe\n",
    "        alpha - alpha para intervalo de PACF\n",
    "    \"\"\"\n",
    "    auto_values = []\n",
    "    p_values = []\n",
    "    for i in range(1,lags+1):\n",
    "        corr_values = corr_function(series[i:],series.shift(i)[i:])\n",
    "        auto_values.append(corr_values[0])\n",
    "        p_values.append(corr_values[1])\n",
    "    \n",
    "    results = {\n",
    "        'lag': range(1,lags+1),\n",
    "        str(name + '_corr'): auto_values,\n",
    "        str(name + '_p-val'): p_values,\n",
    "    }\n",
    "    \n",
    "    df = pd.DataFrame(results)\n",
    "    \n",
    "    return df"
   ]
  },
  {
   "cell_type": "code",
   "execution_count": 25,
   "metadata": {},
   "outputs": [],
   "source": [
    "test = auto_corr(pearsonr, \n",
    "                 calendar_df['hechos'], \n",
    "                 lags = 5, name = 'pearson')"
   ]
  },
  {
   "cell_type": "code",
   "execution_count": 26,
   "metadata": {},
   "outputs": [
    {
     "data": {
      "text/html": [
       "<div>\n",
       "<style scoped>\n",
       "    .dataframe tbody tr th:only-of-type {\n",
       "        vertical-align: middle;\n",
       "    }\n",
       "\n",
       "    .dataframe tbody tr th {\n",
       "        vertical-align: top;\n",
       "    }\n",
       "\n",
       "    .dataframe thead th {\n",
       "        text-align: right;\n",
       "    }\n",
       "</style>\n",
       "<table border=\"1\" class=\"dataframe\">\n",
       "  <thead>\n",
       "    <tr style=\"text-align: right;\">\n",
       "      <th></th>\n",
       "      <th>lag</th>\n",
       "      <th>pearson_corr</th>\n",
       "      <th>pearson_p-val</th>\n",
       "    </tr>\n",
       "  </thead>\n",
       "  <tbody>\n",
       "    <tr>\n",
       "      <td>0</td>\n",
       "      <td>1</td>\n",
       "      <td>0.713865</td>\n",
       "      <td>0.0</td>\n",
       "    </tr>\n",
       "    <tr>\n",
       "      <td>1</td>\n",
       "      <td>2</td>\n",
       "      <td>0.719100</td>\n",
       "      <td>0.0</td>\n",
       "    </tr>\n",
       "    <tr>\n",
       "      <td>2</td>\n",
       "      <td>3</td>\n",
       "      <td>0.682517</td>\n",
       "      <td>0.0</td>\n",
       "    </tr>\n",
       "    <tr>\n",
       "      <td>3</td>\n",
       "      <td>4</td>\n",
       "      <td>0.676128</td>\n",
       "      <td>0.0</td>\n",
       "    </tr>\n",
       "    <tr>\n",
       "      <td>4</td>\n",
       "      <td>5</td>\n",
       "      <td>0.663669</td>\n",
       "      <td>0.0</td>\n",
       "    </tr>\n",
       "  </tbody>\n",
       "</table>\n",
       "</div>"
      ],
      "text/plain": [
       "   lag  pearson_corr  pearson_p-val\n",
       "0    1      0.713865            0.0\n",
       "1    2      0.719100            0.0\n",
       "2    3      0.682517            0.0\n",
       "3    4      0.676128            0.0\n",
       "4    5      0.663669            0.0"
      ]
     },
     "execution_count": 26,
     "metadata": {},
     "output_type": "execute_result"
    }
   ],
   "source": [
    "test"
   ]
  },
  {
   "cell_type": "markdown",
   "metadata": {},
   "source": [
    "En el caso de la funcion de autocorrelacion parcial, usamos statsmodels para calcular los valores. Desafortunadamente no viene con p-values, con lo cual los gestionamos con un poco código. Los desvíos para la FACP son $z_{\\alpha/2} / \\sqrt{n}$, donde $z$ corresponde a una distribución normal. Calculando z lo suficientemente grande como para que el valor +- el desvío sea cero, con la inversa de la distribución normal estándar tenemos nuestro p-value. "
   ]
  },
  {
   "cell_type": "code",
   "execution_count": 27,
   "metadata": {},
   "outputs": [],
   "source": [
    "from statsmodels.tsa.stattools import pacf\n",
    "from scipy.stats import norm"
   ]
  },
  {
   "cell_type": "code",
   "execution_count": 28,
   "metadata": {},
   "outputs": [
    {
     "data": {
      "text/plain": [
       "array([1.        , 0.71404091, 0.4276572 , 0.20897735, 0.16529615,\n",
       "       0.12424025, 0.11928876, 0.10869849])"
      ]
     },
     "execution_count": 28,
     "metadata": {},
     "output_type": "execute_result"
    }
   ],
   "source": [
    "nlags = 7\n",
    "ejemplo = pacf(calendar_df['hechos'],nlags=nlags)\n",
    "ejemplo"
   ]
  },
  {
   "cell_type": "code",
   "execution_count": 29,
   "metadata": {},
   "outputs": [
    {
     "data": {
      "text/plain": [
       "0.024997895148220435"
      ]
     },
     "execution_count": 29,
     "metadata": {},
     "output_type": "execute_result"
    }
   ],
   "source": [
    "norm.cdf(-1.96)"
   ]
  },
  {
   "cell_type": "code",
   "execution_count": 30,
   "metadata": {},
   "outputs": [],
   "source": [
    "def part_autocorr(series,nlags=7):\n",
    "    '''\n",
    "    Devuelve p-values para autocorrelaciones parciales\n",
    "    \n",
    "    part_autocorr - array de partial autocorrelations (tomado de pacf) \n",
    "    '''\n",
    "    \n",
    "    partials = pacf(series,nlags=nlags)\n",
    "    length = len(partials)\n",
    "    p_values = []\n",
    "    \n",
    "    for i in range(1,length):\n",
    "\n",
    "        if partials[i] > 0:\n",
    "            n = series.shape[0] - nlags\n",
    "            z = partials[i] * np.sqrt(n)\n",
    "            p_value = norm.cdf(-z) * 2\n",
    "            p_values.append(p_value)\n",
    "\n",
    "        elif partials[i] < 0:\n",
    "            n = series.shape[0] + nlags\n",
    "            z = partials[i] * np.sqrt(n)\n",
    "            p_value = norm.cdf(z) * 2\n",
    "            p_values.append(p_value)\n",
    "\n",
    "    results = {\n",
    "        'lag': range(1,nlags+1),\n",
    "        'partial_corr': partials[1:],\n",
    "        'partial_p-val': p_values,\n",
    "    }\n",
    "    \n",
    "    df = pd.DataFrame(results)\n",
    "    \n",
    "    return df"
   ]
  },
  {
   "cell_type": "code",
   "execution_count": 31,
   "metadata": {},
   "outputs": [
    {
     "data": {
      "text/html": [
       "<div>\n",
       "<style scoped>\n",
       "    .dataframe tbody tr th:only-of-type {\n",
       "        vertical-align: middle;\n",
       "    }\n",
       "\n",
       "    .dataframe tbody tr th {\n",
       "        vertical-align: top;\n",
       "    }\n",
       "\n",
       "    .dataframe thead th {\n",
       "        text-align: right;\n",
       "    }\n",
       "</style>\n",
       "<table border=\"1\" class=\"dataframe\">\n",
       "  <thead>\n",
       "    <tr style=\"text-align: right;\">\n",
       "      <th></th>\n",
       "      <th>lag</th>\n",
       "      <th>partial_corr</th>\n",
       "      <th>partial_p-val</th>\n",
       "    </tr>\n",
       "  </thead>\n",
       "  <tbody>\n",
       "    <tr>\n",
       "      <td>0</td>\n",
       "      <td>1</td>\n",
       "      <td>0.714041</td>\n",
       "      <td>0.000000e+00</td>\n",
       "    </tr>\n",
       "    <tr>\n",
       "      <td>1</td>\n",
       "      <td>2</td>\n",
       "      <td>0.427657</td>\n",
       "      <td>2.869446e-119</td>\n",
       "    </tr>\n",
       "    <tr>\n",
       "      <td>2</td>\n",
       "      <td>3</td>\n",
       "      <td>0.208977</td>\n",
       "      <td>7.716703e-30</td>\n",
       "    </tr>\n",
       "    <tr>\n",
       "      <td>3</td>\n",
       "      <td>4</td>\n",
       "      <td>0.165296</td>\n",
       "      <td>2.837762e-19</td>\n",
       "    </tr>\n",
       "    <tr>\n",
       "      <td>4</td>\n",
       "      <td>5</td>\n",
       "      <td>0.124240</td>\n",
       "      <td>1.523068e-11</td>\n",
       "    </tr>\n",
       "  </tbody>\n",
       "</table>\n",
       "</div>"
      ],
      "text/plain": [
       "   lag  partial_corr  partial_p-val\n",
       "0    1      0.714041   0.000000e+00\n",
       "1    2      0.427657  2.869446e-119\n",
       "2    3      0.208977   7.716703e-30\n",
       "3    4      0.165296   2.837762e-19\n",
       "4    5      0.124240   1.523068e-11"
      ]
     },
     "execution_count": 31,
     "metadata": {},
     "output_type": "execute_result"
    }
   ],
   "source": [
    "part_autocorr(calendar_df['hechos'],nlags=5)"
   ]
  },
  {
   "cell_type": "code",
   "execution_count": 32,
   "metadata": {},
   "outputs": [],
   "source": [
    "# Falta PACF\n",
    "def corr_df(series, lags = 7): \n",
    "    pearson_full = auto_corr(pearsonr, \n",
    "                             series, \n",
    "                             lags = lags, name = 'pearsonr')\n",
    "\n",
    "    spearman_full = auto_corr(spearmanr, \n",
    "                             series, \n",
    "                             lags = lags, name = 'spearmanr')\n",
    "\n",
    "    kendall_full = auto_corr(kendalltau, \n",
    "                             series, \n",
    "                             lags = lags, name = 'kendalltau')\n",
    "    \n",
    "    partial_full = part_autocorr(series, nlags = nlags)\n",
    "\n",
    "    correlations_full = pearson_full.merge(spearman_full, on = 'lag')\n",
    "    correlations_full = correlations_full.merge(kendall_full, on = 'lag')\n",
    "    correlations_full = correlations_full.merge(partial_full, on = 'lag')\n",
    "    return correlations_full"
   ]
  },
  {
   "cell_type": "code",
   "execution_count": 33,
   "metadata": {},
   "outputs": [
    {
     "data": {
      "text/html": [
       "<div>\n",
       "<style scoped>\n",
       "    .dataframe tbody tr th:only-of-type {\n",
       "        vertical-align: middle;\n",
       "    }\n",
       "\n",
       "    .dataframe tbody tr th {\n",
       "        vertical-align: top;\n",
       "    }\n",
       "\n",
       "    .dataframe thead th {\n",
       "        text-align: right;\n",
       "    }\n",
       "</style>\n",
       "<table border=\"1\" class=\"dataframe\">\n",
       "  <thead>\n",
       "    <tr style=\"text-align: right;\">\n",
       "      <th></th>\n",
       "      <th>lag</th>\n",
       "      <th>pearsonr_corr</th>\n",
       "      <th>pearsonr_p-val</th>\n",
       "      <th>spearmanr_corr</th>\n",
       "      <th>spearmanr_p-val</th>\n",
       "      <th>kendalltau_corr</th>\n",
       "      <th>kendalltau_p-val</th>\n",
       "      <th>partial_corr</th>\n",
       "      <th>partial_p-val</th>\n",
       "    </tr>\n",
       "  </thead>\n",
       "  <tbody>\n",
       "    <tr>\n",
       "      <td>0</td>\n",
       "      <td>1</td>\n",
       "      <td>0.713865</td>\n",
       "      <td>0.0</td>\n",
       "      <td>0.531745</td>\n",
       "      <td>3.565159e-215</td>\n",
       "      <td>0.444441</td>\n",
       "      <td>1.224593e-196</td>\n",
       "      <td>0.714041</td>\n",
       "      <td>0.000000e+00</td>\n",
       "    </tr>\n",
       "    <tr>\n",
       "      <td>1</td>\n",
       "      <td>2</td>\n",
       "      <td>0.719100</td>\n",
       "      <td>0.0</td>\n",
       "      <td>0.534204</td>\n",
       "      <td>1.895856e-217</td>\n",
       "      <td>0.445146</td>\n",
       "      <td>3.422252e-197</td>\n",
       "      <td>0.427657</td>\n",
       "      <td>3.446460e-119</td>\n",
       "    </tr>\n",
       "    <tr>\n",
       "      <td>2</td>\n",
       "      <td>3</td>\n",
       "      <td>0.682517</td>\n",
       "      <td>0.0</td>\n",
       "      <td>0.529994</td>\n",
       "      <td>2.265491e-213</td>\n",
       "      <td>0.444400</td>\n",
       "      <td>1.913394e-196</td>\n",
       "      <td>0.208977</td>\n",
       "      <td>8.063865e-30</td>\n",
       "    </tr>\n",
       "    <tr>\n",
       "      <td>3</td>\n",
       "      <td>4</td>\n",
       "      <td>0.676128</td>\n",
       "      <td>0.0</td>\n",
       "      <td>0.518484</td>\n",
       "      <td>1.221335e-202</td>\n",
       "      <td>0.432456</td>\n",
       "      <td>4.546909e-186</td>\n",
       "      <td>0.165296</td>\n",
       "      <td>2.917334e-19</td>\n",
       "    </tr>\n",
       "    <tr>\n",
       "      <td>4</td>\n",
       "      <td>5</td>\n",
       "      <td>0.663669</td>\n",
       "      <td>0.0</td>\n",
       "      <td>0.495045</td>\n",
       "      <td>4.258643e-182</td>\n",
       "      <td>0.414237</td>\n",
       "      <td>7.786075e-171</td>\n",
       "      <td>0.124240</td>\n",
       "      <td>1.547264e-11</td>\n",
       "    </tr>\n",
       "    <tr>\n",
       "      <td>5</td>\n",
       "      <td>6</td>\n",
       "      <td>0.663092</td>\n",
       "      <td>0.0</td>\n",
       "      <td>0.505795</td>\n",
       "      <td>3.170149e-191</td>\n",
       "      <td>0.421616</td>\n",
       "      <td>8.089360e-177</td>\n",
       "      <td>0.119289</td>\n",
       "      <td>9.503573e-11</td>\n",
       "    </tr>\n",
       "    <tr>\n",
       "      <td>6</td>\n",
       "      <td>7</td>\n",
       "      <td>0.661362</td>\n",
       "      <td>0.0</td>\n",
       "      <td>0.511944</td>\n",
       "      <td>1.452479e-196</td>\n",
       "      <td>0.427669</td>\n",
       "      <td>8.327819e-182</td>\n",
       "      <td>0.108698</td>\n",
       "      <td>3.638653e-09</td>\n",
       "    </tr>\n",
       "  </tbody>\n",
       "</table>\n",
       "</div>"
      ],
      "text/plain": [
       "   lag  pearsonr_corr  pearsonr_p-val  spearmanr_corr  spearmanr_p-val  \\\n",
       "0    1       0.713865             0.0        0.531745    3.565159e-215   \n",
       "1    2       0.719100             0.0        0.534204    1.895856e-217   \n",
       "2    3       0.682517             0.0        0.529994    2.265491e-213   \n",
       "3    4       0.676128             0.0        0.518484    1.221335e-202   \n",
       "4    5       0.663669             0.0        0.495045    4.258643e-182   \n",
       "5    6       0.663092             0.0        0.505795    3.170149e-191   \n",
       "6    7       0.661362             0.0        0.511944    1.452479e-196   \n",
       "\n",
       "   kendalltau_corr  kendalltau_p-val  partial_corr  partial_p-val  \n",
       "0         0.444441     1.224593e-196      0.714041   0.000000e+00  \n",
       "1         0.445146     3.422252e-197      0.427657  3.446460e-119  \n",
       "2         0.444400     1.913394e-196      0.208977   8.063865e-30  \n",
       "3         0.432456     4.546909e-186      0.165296   2.917334e-19  \n",
       "4         0.414237     7.786075e-171      0.124240   1.547264e-11  \n",
       "5         0.421616     8.089360e-177      0.119289   9.503573e-11  \n",
       "6         0.427669     8.327819e-182      0.108698   3.638653e-09  "
      ]
     },
     "execution_count": 33,
     "metadata": {},
     "output_type": "execute_result"
    }
   ],
   "source": [
    "corr_full = corr_df(calendar_df['hechos'],lags = 7)\n",
    "corr_full"
   ]
  },
  {
   "cell_type": "markdown",
   "metadata": {},
   "source": [
    "En función de lo que vimos más arriba (que los días con un solo hecho parecen tener una estructura temporal diferenciada del resto), corremos las mismas medidas filtrando los días con un solo hecho."
   ]
  },
  {
   "cell_type": "code",
   "execution_count": 34,
   "metadata": {},
   "outputs": [
    {
     "data": {
      "text/html": [
       "<div>\n",
       "<style scoped>\n",
       "    .dataframe tbody tr th:only-of-type {\n",
       "        vertical-align: middle;\n",
       "    }\n",
       "\n",
       "    .dataframe tbody tr th {\n",
       "        vertical-align: top;\n",
       "    }\n",
       "\n",
       "    .dataframe thead th {\n",
       "        text-align: right;\n",
       "    }\n",
       "</style>\n",
       "<table border=\"1\" class=\"dataframe\">\n",
       "  <thead>\n",
       "    <tr style=\"text-align: right;\">\n",
       "      <th></th>\n",
       "      <th>lag</th>\n",
       "      <th>pearsonr_corr</th>\n",
       "      <th>pearsonr_p-val</th>\n",
       "      <th>spearmanr_corr</th>\n",
       "      <th>spearmanr_p-val</th>\n",
       "      <th>kendalltau_corr</th>\n",
       "      <th>kendalltau_p-val</th>\n",
       "      <th>partial_corr</th>\n",
       "      <th>partial_p-val</th>\n",
       "    </tr>\n",
       "  </thead>\n",
       "  <tbody>\n",
       "    <tr>\n",
       "      <td>0</td>\n",
       "      <td>1</td>\n",
       "      <td>0.717419</td>\n",
       "      <td>8.217214e-226</td>\n",
       "      <td>0.754697</td>\n",
       "      <td>6.135425e-263</td>\n",
       "      <td>0.584685</td>\n",
       "      <td>2.638443e-203</td>\n",
       "      <td>0.717535</td>\n",
       "      <td>5.173456e-161</td>\n",
       "    </tr>\n",
       "    <tr>\n",
       "      <td>1</td>\n",
       "      <td>2</td>\n",
       "      <td>0.695513</td>\n",
       "      <td>1.546427e-206</td>\n",
       "      <td>0.739458</td>\n",
       "      <td>8.090992e-247</td>\n",
       "      <td>0.570800</td>\n",
       "      <td>9.228150e-194</td>\n",
       "      <td>0.372843</td>\n",
       "      <td>7.726118e-45</td>\n",
       "    </tr>\n",
       "    <tr>\n",
       "      <td>2</td>\n",
       "      <td>3</td>\n",
       "      <td>0.676560</td>\n",
       "      <td>3.309021e-191</td>\n",
       "      <td>0.721099</td>\n",
       "      <td>6.921223e-229</td>\n",
       "      <td>0.549075</td>\n",
       "      <td>2.518149e-179</td>\n",
       "      <td>0.230876</td>\n",
       "      <td>3.317184e-18</td>\n",
       "    </tr>\n",
       "    <tr>\n",
       "      <td>3</td>\n",
       "      <td>4</td>\n",
       "      <td>0.662837</td>\n",
       "      <td>8.860050e-181</td>\n",
       "      <td>0.708717</td>\n",
       "      <td>1.523501e-217</td>\n",
       "      <td>0.540715</td>\n",
       "      <td>7.048827e-174</td>\n",
       "      <td>0.162484</td>\n",
       "      <td>9.190927e-10</td>\n",
       "    </tr>\n",
       "    <tr>\n",
       "      <td>4</td>\n",
       "      <td>5</td>\n",
       "      <td>0.679748</td>\n",
       "      <td>2.067262e-193</td>\n",
       "      <td>0.724551</td>\n",
       "      <td>8.607447e-232</td>\n",
       "      <td>0.559645</td>\n",
       "      <td>5.053345e-186</td>\n",
       "      <td>0.195671</td>\n",
       "      <td>1.662595e-13</td>\n",
       "    </tr>\n",
       "    <tr>\n",
       "      <td>5</td>\n",
       "      <td>6</td>\n",
       "      <td>0.661447</td>\n",
       "      <td>1.622768e-179</td>\n",
       "      <td>0.702226</td>\n",
       "      <td>1.283610e-211</td>\n",
       "      <td>0.536249</td>\n",
       "      <td>7.761123e-171</td>\n",
       "      <td>0.106406</td>\n",
       "      <td>6.079929e-05</td>\n",
       "    </tr>\n",
       "    <tr>\n",
       "      <td>6</td>\n",
       "      <td>7</td>\n",
       "      <td>0.640449</td>\n",
       "      <td>9.159623e-165</td>\n",
       "      <td>0.691460</td>\n",
       "      <td>1.760483e-202</td>\n",
       "      <td>0.527141</td>\n",
       "      <td>4.761961e-165</td>\n",
       "      <td>0.048239</td>\n",
       "      <td>6.909545e-02</td>\n",
       "    </tr>\n",
       "  </tbody>\n",
       "</table>\n",
       "</div>"
      ],
      "text/plain": [
       "   lag  pearsonr_corr  pearsonr_p-val  spearmanr_corr  spearmanr_p-val  \\\n",
       "0    1       0.717419   8.217214e-226        0.754697    6.135425e-263   \n",
       "1    2       0.695513   1.546427e-206        0.739458    8.090992e-247   \n",
       "2    3       0.676560   3.309021e-191        0.721099    6.921223e-229   \n",
       "3    4       0.662837   8.860050e-181        0.708717    1.523501e-217   \n",
       "4    5       0.679748   2.067262e-193        0.724551    8.607447e-232   \n",
       "5    6       0.661447   1.622768e-179        0.702226    1.283610e-211   \n",
       "6    7       0.640449   9.159623e-165        0.691460    1.760483e-202   \n",
       "\n",
       "   kendalltau_corr  kendalltau_p-val  partial_corr  partial_p-val  \n",
       "0         0.584685     2.638443e-203      0.717535  5.173456e-161  \n",
       "1         0.570800     9.228150e-194      0.372843   7.726118e-45  \n",
       "2         0.549075     2.518149e-179      0.230876   3.317184e-18  \n",
       "3         0.540715     7.048827e-174      0.162484   9.190927e-10  \n",
       "4         0.559645     5.053345e-186      0.195671   1.662595e-13  \n",
       "5         0.536249     7.761123e-171      0.106406   6.079929e-05  \n",
       "6         0.527141     4.761961e-165      0.048239   6.909545e-02  "
      ]
     },
     "execution_count": 34,
     "metadata": {},
     "output_type": "execute_result"
    }
   ],
   "source": [
    "hechos_mayores1_full = corr_df(hechos_mayores1,lags = 7)\n",
    "hechos_mayores1_full"
   ]
  },
  {
   "cell_type": "markdown",
   "metadata": {},
   "source": [
    "El aumento de las medidas de correlación es especialmente notorio en los coeficientes de Spearman y Kendall."
   ]
  },
  {
   "cell_type": "code",
   "execution_count": 35,
   "metadata": {},
   "outputs": [],
   "source": [
    "def plot_corr(df, fig, values, pvalues, alpha = 0.01, title='Title'):\n",
    "    '''\n",
    "    Plotea funciones de autocorrelacion para el df indicado.\n",
    "    Los lags significativos en rojo, los demás en azul\n",
    "    \n",
    "    df - dataframe con lags, autocorrelaciones y pvalues\n",
    "    fig - canvas de Matplotlib para plotear\n",
    "    values - columna con los valores a plotear\n",
    "    pvalues - columna con los pvalues correspondientes\n",
    "    alpha - nivel de significación elegido\n",
    "    title - título\n",
    "    '''\n",
    "    pvalue_list = df[pvalues].values\n",
    "    colors = ['tomato' if pvalue_list[i] > alpha else 'cornflowerblue' for i in range(len((pvalue_list)))]\n",
    "    fig.bar(x = df['lag'].values,\n",
    "            height = df[values].values,\n",
    "            color = colors)\n",
    "    fig.set_ylim([0, 1])\n",
    "    fig.set_title(title)"
   ]
  },
  {
   "cell_type": "code",
   "execution_count": 36,
   "metadata": {},
   "outputs": [],
   "source": [
    "def plot_all_corr(df, alpha = 0.01, title='Title'):\n",
    "    \n",
    "    fig, axes = plt.subplots(2, 2,figsize=(10,7),constrained_layout = True)\n",
    "    plot_corr(df, axes[0, 0], 'pearsonr_corr',\n",
    "              'pearsonr_p-val', alpha = alpha, title='Pearson')\n",
    "    plot_corr(df, axes[0, 1], 'spearmanr_corr',\n",
    "              'spearmanr_p-val', alpha = alpha, title='Spearman')\n",
    "    plot_corr(df, axes[1, 0], 'kendalltau_corr',\n",
    "              'kendalltau_p-val', alpha = alpha, title='Kendall')\n",
    "    plot_corr(df, axes[1, 1], 'partial_corr',\n",
    "              'partial_p-val', alpha = alpha, title='Partial AutoCorr')\n",
    "\n",
    "    for ax in axes.flat:\n",
    "        ax.set(xlabel='lag', ylabel='autocorrelacion')\n",
    "\n",
    "    # Hide x labels and tick labels for top plots and y ticks for right plots.\n",
    "    for ax in axes.flat:\n",
    "        ax.label_outer()\n",
    "\n",
    "    fig.suptitle(title, fontsize=13)\n",
    "    plt.show()"
   ]
  },
  {
   "cell_type": "code",
   "execution_count": 37,
   "metadata": {},
   "outputs": [
    {
     "data": {
      "image/png": "[encoded data removed]",
      "text/plain": [
       "<Figure size 720x504 with 4 Axes>"
      ]
     },
     "metadata": {
      "needs_background": "light"
     },
     "output_type": "display_data"
    }
   ],
   "source": [
    "plot_all_corr(corr_full, alpha = 0.01, title = 'Coeficientes de correlacion 2015-2019')"
   ]
  },
  {
   "cell_type": "markdown",
   "metadata": {},
   "source": [
    "Es decir, una autocorrelación grande, de signo positivo y significativa, para las tres medidas de correlación."
   ]
  },
  {
   "cell_type": "markdown",
   "metadata": {},
   "source": [
    "## Autocorrelación por año"
   ]
  },
  {
   "cell_type": "markdown",
   "metadata": {},
   "source": [
    "### Año 2015"
   ]
  },
  {
   "cell_type": "code",
   "execution_count": 38,
   "metadata": {},
   "outputs": [
    {
     "data": {
      "image/png": "[encoded data removed]",
      "text/plain": [
       "<Figure size 432x288 with 1 Axes>"
      ]
     },
     "metadata": {
      "needs_background": "light"
     },
     "output_type": "display_data"
    }
   ],
   "source": [
    "# scatter\n",
    "serie_2015 = calendar_df[calendar_df['date'].dt.year == 2015]['hechos']\n",
    "plt.scatter(serie_2015,\n",
    "            serie_2015.shift(-1),)\n",
    "plt.show()"
   ]
  },
  {
   "cell_type": "code",
   "execution_count": 39,
   "metadata": {},
   "outputs": [
    {
     "data": {
      "text/html": [
       "<div>\n",
       "<style scoped>\n",
       "    .dataframe tbody tr th:only-of-type {\n",
       "        vertical-align: middle;\n",
       "    }\n",
       "\n",
       "    .dataframe tbody tr th {\n",
       "        vertical-align: top;\n",
       "    }\n",
       "\n",
       "    .dataframe thead th {\n",
       "        text-align: right;\n",
       "    }\n",
       "</style>\n",
       "<table border=\"1\" class=\"dataframe\">\n",
       "  <thead>\n",
       "    <tr style=\"text-align: right;\">\n",
       "      <th></th>\n",
       "      <th>lag</th>\n",
       "      <th>pearsonr_corr</th>\n",
       "      <th>pearsonr_p-val</th>\n",
       "      <th>spearmanr_corr</th>\n",
       "      <th>spearmanr_p-val</th>\n",
       "      <th>kendalltau_corr</th>\n",
       "      <th>kendalltau_p-val</th>\n",
       "      <th>partial_corr</th>\n",
       "      <th>partial_p-val</th>\n",
       "    </tr>\n",
       "  </thead>\n",
       "  <tbody>\n",
       "    <tr>\n",
       "      <td>0</td>\n",
       "      <td>1</td>\n",
       "      <td>0.562732</td>\n",
       "      <td>5.894046e-28</td>\n",
       "      <td>0.537932</td>\n",
       "      <td>3.001623e-25</td>\n",
       "      <td>0.419379</td>\n",
       "      <td>4.835901e-24</td>\n",
       "      <td>0.563729</td>\n",
       "      <td>2.340077e-23</td>\n",
       "    </tr>\n",
       "    <tr>\n",
       "      <td>1</td>\n",
       "      <td>2</td>\n",
       "      <td>0.511947</td>\n",
       "      <td>1.412664e-22</td>\n",
       "      <td>0.447114</td>\n",
       "      <td>5.508145e-17</td>\n",
       "      <td>0.341103</td>\n",
       "      <td>2.186073e-16</td>\n",
       "      <td>0.286053</td>\n",
       "      <td>4.355819e-07</td>\n",
       "    </tr>\n",
       "    <tr>\n",
       "      <td>2</td>\n",
       "      <td>3</td>\n",
       "      <td>0.485782</td>\n",
       "      <td>4.068683e-20</td>\n",
       "      <td>0.422452</td>\n",
       "      <td>4.144854e-15</td>\n",
       "      <td>0.320484</td>\n",
       "      <td>1.363975e-14</td>\n",
       "      <td>0.180942</td>\n",
       "      <td>1.393113e-03</td>\n",
       "    </tr>\n",
       "    <tr>\n",
       "      <td>3</td>\n",
       "      <td>4</td>\n",
       "      <td>0.395025</td>\n",
       "      <td>3.303910e-13</td>\n",
       "      <td>0.326832</td>\n",
       "      <td>2.822724e-09</td>\n",
       "      <td>0.251893</td>\n",
       "      <td>1.528643e-09</td>\n",
       "      <td>0.011193</td>\n",
       "      <td>8.432737e-01</td>\n",
       "    </tr>\n",
       "    <tr>\n",
       "      <td>4</td>\n",
       "      <td>5</td>\n",
       "      <td>0.327096</td>\n",
       "      <td>2.900272e-09</td>\n",
       "      <td>0.211492</td>\n",
       "      <td>1.596934e-04</td>\n",
       "      <td>0.161854</td>\n",
       "      <td>1.066822e-04</td>\n",
       "      <td>-0.023721</td>\n",
       "      <td>6.684415e-01</td>\n",
       "    </tr>\n",
       "    <tr>\n",
       "      <td>5</td>\n",
       "      <td>6</td>\n",
       "      <td>0.290739</td>\n",
       "      <td>1.634939e-07</td>\n",
       "      <td>0.183005</td>\n",
       "      <td>1.145016e-03</td>\n",
       "      <td>0.139412</td>\n",
       "      <td>8.649003e-04</td>\n",
       "      <td>0.001775</td>\n",
       "      <td>9.749880e-01</td>\n",
       "    </tr>\n",
       "    <tr>\n",
       "      <td>6</td>\n",
       "      <td>7</td>\n",
       "      <td>0.239698</td>\n",
       "      <td>1.873415e-05</td>\n",
       "      <td>0.149927</td>\n",
       "      <td>7.987203e-03</td>\n",
       "      <td>0.112481</td>\n",
       "      <td>7.319370e-03</td>\n",
       "      <td>-0.012862</td>\n",
       "      <td>8.163628e-01</td>\n",
       "    </tr>\n",
       "  </tbody>\n",
       "</table>\n",
       "</div>"
      ],
      "text/plain": [
       "   lag  pearsonr_corr  pearsonr_p-val  spearmanr_corr  spearmanr_p-val  \\\n",
       "0    1       0.562732    5.894046e-28        0.537932     3.001623e-25   \n",
       "1    2       0.511947    1.412664e-22        0.447114     5.508145e-17   \n",
       "2    3       0.485782    4.068683e-20        0.422452     4.144854e-15   \n",
       "3    4       0.395025    3.303910e-13        0.326832     2.822724e-09   \n",
       "4    5       0.327096    2.900272e-09        0.211492     1.596934e-04   \n",
       "5    6       0.290739    1.634939e-07        0.183005     1.145016e-03   \n",
       "6    7       0.239698    1.873415e-05        0.149927     7.987203e-03   \n",
       "\n",
       "   kendalltau_corr  kendalltau_p-val  partial_corr  partial_p-val  \n",
       "0         0.419379      4.835901e-24      0.563729   2.340077e-23  \n",
       "1         0.341103      2.186073e-16      0.286053   4.355819e-07  \n",
       "2         0.320484      1.363975e-14      0.180942   1.393113e-03  \n",
       "3         0.251893      1.528643e-09      0.011193   8.432737e-01  \n",
       "4         0.161854      1.066822e-04     -0.023721   6.684415e-01  \n",
       "5         0.139412      8.649003e-04      0.001775   9.749880e-01  \n",
       "6         0.112481      7.319370e-03     -0.012862   8.163628e-01  "
      ]
     },
     "execution_count": 39,
     "metadata": {},
     "output_type": "execute_result"
    }
   ],
   "source": [
    "corr_2015 = corr_df(serie_2015,lags = 7)\n",
    "corr_2015"
   ]
  },
  {
   "cell_type": "code",
   "execution_count": 40,
   "metadata": {},
   "outputs": [
    {
     "data": {
      "image/png": "[encoded data removed]",
      "text/plain": [
       "<Figure size 720x504 with 4 Axes>"
      ]
     },
     "metadata": {
      "needs_background": "light"
     },
     "output_type": "display_data"
    }
   ],
   "source": [
    "plot_all_corr(corr_2015, alpha = 0.01, title='Coeficientes de correlacion 2015\\n(Rojo = No significativo al 5%)')"
   ]
  },
  {
   "cell_type": "markdown",
   "metadata": {},
   "source": [
    "### Año 2016"
   ]
  },
  {
   "cell_type": "code",
   "execution_count": 41,
   "metadata": {},
   "outputs": [
    {
     "data": {
      "image/png": "[encoded data removed]",
      "text/plain": [
       "<Figure size 432x288 with 1 Axes>"
      ]
     },
     "metadata": {
      "needs_background": "light"
     },
     "output_type": "display_data"
    }
   ],
   "source": [
    "# scatter\n",
    "serie_2016 = calendar_df[calendar_df['date'].dt.year == 2016]['hechos']\n",
    "plt.scatter(serie_2016,\n",
    "            serie_2016.shift(-1),)\n",
    "plt.show()"
   ]
  },
  {
   "cell_type": "markdown",
   "metadata": {},
   "source": [
    "En el scatter parece ser más preponderante el peso de los \"días de una sola causa\", así que repetiremos el análisis con la serie filtrada"
   ]
  },
  {
   "cell_type": "code",
   "execution_count": 42,
   "metadata": {},
   "outputs": [
    {
     "data": {
      "text/html": [
       "<div>\n",
       "<style scoped>\n",
       "    .dataframe tbody tr th:only-of-type {\n",
       "        vertical-align: middle;\n",
       "    }\n",
       "\n",
       "    .dataframe tbody tr th {\n",
       "        vertical-align: top;\n",
       "    }\n",
       "\n",
       "    .dataframe thead th {\n",
       "        text-align: right;\n",
       "    }\n",
       "</style>\n",
       "<table border=\"1\" class=\"dataframe\">\n",
       "  <thead>\n",
       "    <tr style=\"text-align: right;\">\n",
       "      <th></th>\n",
       "      <th>lag</th>\n",
       "      <th>pearsonr_corr</th>\n",
       "      <th>pearsonr_p-val</th>\n",
       "      <th>spearmanr_corr</th>\n",
       "      <th>spearmanr_p-val</th>\n",
       "      <th>kendalltau_corr</th>\n",
       "      <th>kendalltau_p-val</th>\n",
       "      <th>partial_corr</th>\n",
       "      <th>partial_p-val</th>\n",
       "    </tr>\n",
       "  </thead>\n",
       "  <tbody>\n",
       "    <tr>\n",
       "      <td>0</td>\n",
       "      <td>1</td>\n",
       "      <td>0.080529</td>\n",
       "      <td>0.116590</td>\n",
       "      <td>0.126079</td>\n",
       "      <td>0.013789</td>\n",
       "      <td>0.088611</td>\n",
       "      <td>0.014093</td>\n",
       "      <td>0.080568</td>\n",
       "      <td>0.118715</td>\n",
       "    </tr>\n",
       "    <tr>\n",
       "      <td>1</td>\n",
       "      <td>2</td>\n",
       "      <td>0.179318</td>\n",
       "      <td>0.000444</td>\n",
       "      <td>0.215157</td>\n",
       "      <td>0.000023</td>\n",
       "      <td>0.151653</td>\n",
       "      <td>0.000027</td>\n",
       "      <td>0.174363</td>\n",
       "      <td>0.000734</td>\n",
       "    </tr>\n",
       "    <tr>\n",
       "      <td>2</td>\n",
       "      <td>3</td>\n",
       "      <td>0.080512</td>\n",
       "      <td>0.117639</td>\n",
       "      <td>0.118438</td>\n",
       "      <td>0.021097</td>\n",
       "      <td>0.084178</td>\n",
       "      <td>0.020017</td>\n",
       "      <td>0.056888</td>\n",
       "      <td>0.270618</td>\n",
       "    </tr>\n",
       "    <tr>\n",
       "      <td>3</td>\n",
       "      <td>4</td>\n",
       "      <td>0.058286</td>\n",
       "      <td>0.258301</td>\n",
       "      <td>0.062142</td>\n",
       "      <td>0.228070</td>\n",
       "      <td>0.043272</td>\n",
       "      <td>0.232398</td>\n",
       "      <td>0.019592</td>\n",
       "      <td>0.704395</td>\n",
       "    </tr>\n",
       "    <tr>\n",
       "      <td>4</td>\n",
       "      <td>5</td>\n",
       "      <td>0.109955</td>\n",
       "      <td>0.032816</td>\n",
       "      <td>0.157256</td>\n",
       "      <td>0.002196</td>\n",
       "      <td>0.107750</td>\n",
       "      <td>0.002986</td>\n",
       "      <td>0.085054</td>\n",
       "      <td>0.099546</td>\n",
       "    </tr>\n",
       "    <tr>\n",
       "      <td>5</td>\n",
       "      <td>6</td>\n",
       "      <td>-0.024804</td>\n",
       "      <td>0.631626</td>\n",
       "      <td>0.005763</td>\n",
       "      <td>0.911313</td>\n",
       "      <td>0.003775</td>\n",
       "      <td>0.917261</td>\n",
       "      <td>-0.055869</td>\n",
       "      <td>0.270497</td>\n",
       "    </tr>\n",
       "    <tr>\n",
       "      <td>6</td>\n",
       "      <td>7</td>\n",
       "      <td>0.009467</td>\n",
       "      <td>0.855015</td>\n",
       "      <td>0.018945</td>\n",
       "      <td>0.714600</td>\n",
       "      <td>0.015042</td>\n",
       "      <td>0.679263</td>\n",
       "      <td>-0.024067</td>\n",
       "      <td>0.635016</td>\n",
       "    </tr>\n",
       "  </tbody>\n",
       "</table>\n",
       "</div>"
      ],
      "text/plain": [
       "   lag  pearsonr_corr  pearsonr_p-val  spearmanr_corr  spearmanr_p-val  \\\n",
       "0    1       0.080529        0.116590        0.126079         0.013789   \n",
       "1    2       0.179318        0.000444        0.215157         0.000023   \n",
       "2    3       0.080512        0.117639        0.118438         0.021097   \n",
       "3    4       0.058286        0.258301        0.062142         0.228070   \n",
       "4    5       0.109955        0.032816        0.157256         0.002196   \n",
       "5    6      -0.024804        0.631626        0.005763         0.911313   \n",
       "6    7       0.009467        0.855015        0.018945         0.714600   \n",
       "\n",
       "   kendalltau_corr  kendalltau_p-val  partial_corr  partial_p-val  \n",
       "0         0.088611          0.014093      0.080568       0.118715  \n",
       "1         0.151653          0.000027      0.174363       0.000734  \n",
       "2         0.084178          0.020017      0.056888       0.270618  \n",
       "3         0.043272          0.232398      0.019592       0.704395  \n",
       "4         0.107750          0.002986      0.085054       0.099546  \n",
       "5         0.003775          0.917261     -0.055869       0.270497  \n",
       "6         0.015042          0.679263     -0.024067       0.635016  "
      ]
     },
     "execution_count": 42,
     "metadata": {},
     "output_type": "execute_result"
    }
   ],
   "source": [
    "corr_2016 = corr_df(serie_2016,lags = 7)\n",
    "corr_2016"
   ]
  },
  {
   "cell_type": "code",
   "execution_count": 43,
   "metadata": {},
   "outputs": [
    {
     "data": {
      "image/png": "[encoded data removed]",
      "text/plain": [
       "<Figure size 720x504 with 4 Axes>"
      ]
     },
     "metadata": {
      "needs_background": "light"
     },
     "output_type": "display_data"
    }
   ],
   "source": [
    "plot_all_corr(corr_2016, alpha = 0.01, title='Coeficientes de correlacion 2016\\n(Rojo = No significativo al 5%)')"
   ]
  },
  {
   "cell_type": "code",
   "execution_count": 44,
   "metadata": {},
   "outputs": [
    {
     "data": {
      "text/html": [
       "<div>\n",
       "<style scoped>\n",
       "    .dataframe tbody tr th:only-of-type {\n",
       "        vertical-align: middle;\n",
       "    }\n",
       "\n",
       "    .dataframe tbody tr th {\n",
       "        vertical-align: top;\n",
       "    }\n",
       "\n",
       "    .dataframe thead th {\n",
       "        text-align: right;\n",
       "    }\n",
       "</style>\n",
       "<table border=\"1\" class=\"dataframe\">\n",
       "  <thead>\n",
       "    <tr style=\"text-align: right;\">\n",
       "      <th></th>\n",
       "      <th>lag</th>\n",
       "      <th>pearsonr_corr</th>\n",
       "      <th>pearsonr_p-val</th>\n",
       "      <th>spearmanr_corr</th>\n",
       "      <th>spearmanr_p-val</th>\n",
       "      <th>kendalltau_corr</th>\n",
       "      <th>kendalltau_p-val</th>\n",
       "      <th>partial_corr</th>\n",
       "      <th>partial_p-val</th>\n",
       "    </tr>\n",
       "  </thead>\n",
       "  <tbody>\n",
       "    <tr>\n",
       "      <td>0</td>\n",
       "      <td>1</td>\n",
       "      <td>0.145893</td>\n",
       "      <td>0.005227</td>\n",
       "      <td>0.161157</td>\n",
       "      <td>0.002011</td>\n",
       "      <td>0.113338</td>\n",
       "      <td>0.002181</td>\n",
       "      <td>0.145899</td>\n",
       "      <td>0.005703</td>\n",
       "    </tr>\n",
       "    <tr>\n",
       "      <td>1</td>\n",
       "      <td>2</td>\n",
       "      <td>0.173308</td>\n",
       "      <td>0.000899</td>\n",
       "      <td>0.220956</td>\n",
       "      <td>0.000021</td>\n",
       "      <td>0.155890</td>\n",
       "      <td>0.000026</td>\n",
       "      <td>0.155545</td>\n",
       "      <td>0.003207</td>\n",
       "    </tr>\n",
       "    <tr>\n",
       "      <td>2</td>\n",
       "      <td>3</td>\n",
       "      <td>0.144875</td>\n",
       "      <td>0.005687</td>\n",
       "      <td>0.154185</td>\n",
       "      <td>0.003228</td>\n",
       "      <td>0.108264</td>\n",
       "      <td>0.003508</td>\n",
       "      <td>0.105838</td>\n",
       "      <td>0.044926</td>\n",
       "    </tr>\n",
       "    <tr>\n",
       "      <td>3</td>\n",
       "      <td>4</td>\n",
       "      <td>0.037165</td>\n",
       "      <td>0.480861</td>\n",
       "      <td>0.056709</td>\n",
       "      <td>0.281885</td>\n",
       "      <td>0.040721</td>\n",
       "      <td>0.272822</td>\n",
       "      <td>-0.019417</td>\n",
       "      <td>0.707660</td>\n",
       "    </tr>\n",
       "    <tr>\n",
       "      <td>4</td>\n",
       "      <td>5</td>\n",
       "      <td>0.155354</td>\n",
       "      <td>0.003082</td>\n",
       "      <td>0.194681</td>\n",
       "      <td>0.000198</td>\n",
       "      <td>0.134821</td>\n",
       "      <td>0.000289</td>\n",
       "      <td>0.120554</td>\n",
       "      <td>0.022361</td>\n",
       "    </tr>\n",
       "    <tr>\n",
       "      <td>5</td>\n",
       "      <td>6</td>\n",
       "      <td>0.048441</td>\n",
       "      <td>0.359432</td>\n",
       "      <td>0.042077</td>\n",
       "      <td>0.426070</td>\n",
       "      <td>0.029327</td>\n",
       "      <td>0.430997</td>\n",
       "      <td>0.001262</td>\n",
       "      <td>0.980921</td>\n",
       "    </tr>\n",
       "    <tr>\n",
       "      <td>6</td>\n",
       "      <td>7</td>\n",
       "      <td>-0.015983</td>\n",
       "      <td>0.762807</td>\n",
       "      <td>0.012640</td>\n",
       "      <td>0.811356</td>\n",
       "      <td>0.009181</td>\n",
       "      <td>0.805526</td>\n",
       "      <td>-0.066239</td>\n",
       "      <td>0.200795</td>\n",
       "    </tr>\n",
       "  </tbody>\n",
       "</table>\n",
       "</div>"
      ],
      "text/plain": [
       "   lag  pearsonr_corr  pearsonr_p-val  spearmanr_corr  spearmanr_p-val  \\\n",
       "0    1       0.145893        0.005227        0.161157         0.002011   \n",
       "1    2       0.173308        0.000899        0.220956         0.000021   \n",
       "2    3       0.144875        0.005687        0.154185         0.003228   \n",
       "3    4       0.037165        0.480861        0.056709         0.281885   \n",
       "4    5       0.155354        0.003082        0.194681         0.000198   \n",
       "5    6       0.048441        0.359432        0.042077         0.426070   \n",
       "6    7      -0.015983        0.762807        0.012640         0.811356   \n",
       "\n",
       "   kendalltau_corr  kendalltau_p-val  partial_corr  partial_p-val  \n",
       "0         0.113338          0.002181      0.145899       0.005703  \n",
       "1         0.155890          0.000026      0.155545       0.003207  \n",
       "2         0.108264          0.003508      0.105838       0.044926  \n",
       "3         0.040721          0.272822     -0.019417       0.707660  \n",
       "4         0.134821          0.000289      0.120554       0.022361  \n",
       "5         0.029327          0.430997      0.001262       0.980921  \n",
       "6         0.009181          0.805526     -0.066239       0.200795  "
      ]
     },
     "execution_count": 44,
     "metadata": {},
     "output_type": "execute_result"
    }
   ],
   "source": [
    "serie1_2016 = serie_2016[serie_2016 > 1]\n",
    "corr1_2016 = corr_df(serie1_2016,lags = 7)\n",
    "corr1_2016"
   ]
  },
  {
   "cell_type": "code",
   "execution_count": 45,
   "metadata": {},
   "outputs": [
    {
     "data": {
      "image/png": "[encoded data removed]",
      "text/plain": [
       "<Figure size 720x504 with 4 Axes>"
      ]
     },
     "metadata": {
      "needs_background": "light"
     },
     "output_type": "display_data"
    }
   ],
   "source": [
    "plot_all_corr(corr1_2016, alpha = 0.01, title='Coeficientes de correlacion 2016\\n(Rojo = No significativo al 5%)')"
   ]
  },
  {
   "cell_type": "markdown",
   "metadata": {},
   "source": [
    "Para este año vemos entonces correlaciones más débiles (en especial si incluimos los días de una sola causa). Aún así, sigue claramente presente el fenómeno de la autocorrelación estadísticamente significativa. "
   ]
  },
  {
   "cell_type": "markdown",
   "metadata": {},
   "source": [
    "### Año 2017"
   ]
  },
  {
   "cell_type": "code",
   "execution_count": 46,
   "metadata": {},
   "outputs": [
    {
     "data": {
      "image/png": "[encoded data removed]",
      "text/plain": [
       "<Figure size 432x288 with 1 Axes>"
      ]
     },
     "metadata": {
      "needs_background": "light"
     },
     "output_type": "display_data"
    }
   ],
   "source": [
    "# scatter\n",
    "serie_2017 = calendar_df[calendar_df['date'].dt.year == 2017]['hechos']\n",
    "plt.scatter(serie_2017,\n",
    "            serie_2017.shift(-1),)\n",
    "plt.show()"
   ]
  },
  {
   "cell_type": "code",
   "execution_count": 47,
   "metadata": {},
   "outputs": [
    {
     "data": {
      "text/html": [
       "<div>\n",
       "<style scoped>\n",
       "    .dataframe tbody tr th:only-of-type {\n",
       "        vertical-align: middle;\n",
       "    }\n",
       "\n",
       "    .dataframe tbody tr th {\n",
       "        vertical-align: top;\n",
       "    }\n",
       "\n",
       "    .dataframe thead th {\n",
       "        text-align: right;\n",
       "    }\n",
       "</style>\n",
       "<table border=\"1\" class=\"dataframe\">\n",
       "  <thead>\n",
       "    <tr style=\"text-align: right;\">\n",
       "      <th></th>\n",
       "      <th>lag</th>\n",
       "      <th>pearsonr_corr</th>\n",
       "      <th>pearsonr_p-val</th>\n",
       "      <th>spearmanr_corr</th>\n",
       "      <th>spearmanr_p-val</th>\n",
       "      <th>kendalltau_corr</th>\n",
       "      <th>kendalltau_p-val</th>\n",
       "      <th>partial_corr</th>\n",
       "      <th>partial_p-val</th>\n",
       "    </tr>\n",
       "  </thead>\n",
       "  <tbody>\n",
       "    <tr>\n",
       "      <td>0</td>\n",
       "      <td>1</td>\n",
       "      <td>0.302556</td>\n",
       "      <td>4.825195e-13</td>\n",
       "      <td>0.261564</td>\n",
       "      <td>5.233284e-10</td>\n",
       "      <td>0.201170</td>\n",
       "      <td>8.535449e-10</td>\n",
       "      <td>0.288200</td>\n",
       "      <td>2.036697e-11</td>\n",
       "    </tr>\n",
       "    <tr>\n",
       "      <td>1</td>\n",
       "      <td>2</td>\n",
       "      <td>0.290985</td>\n",
       "      <td>4.080086e-12</td>\n",
       "      <td>0.288249</td>\n",
       "      <td>6.592036e-12</td>\n",
       "      <td>0.221652</td>\n",
       "      <td>1.444059e-11</td>\n",
       "      <td>0.211761</td>\n",
       "      <td>8.417344e-07</td>\n",
       "    </tr>\n",
       "    <tr>\n",
       "      <td>2</td>\n",
       "      <td>3</td>\n",
       "      <td>0.139334</td>\n",
       "      <td>1.109298e-03</td>\n",
       "      <td>0.176697</td>\n",
       "      <td>3.350387e-05</td>\n",
       "      <td>0.136710</td>\n",
       "      <td>3.159864e-05</td>\n",
       "      <td>0.009733</td>\n",
       "      <td>8.209044e-01</td>\n",
       "    </tr>\n",
       "    <tr>\n",
       "      <td>3</td>\n",
       "      <td>4</td>\n",
       "      <td>0.159997</td>\n",
       "      <td>1.787304e-04</td>\n",
       "      <td>0.157114</td>\n",
       "      <td>2.341960e-04</td>\n",
       "      <td>0.119011</td>\n",
       "      <td>2.934820e-04</td>\n",
       "      <td>0.070227</td>\n",
       "      <td>1.023781e-01</td>\n",
       "    </tr>\n",
       "    <tr>\n",
       "      <td>4</td>\n",
       "      <td>5</td>\n",
       "      <td>0.060863</td>\n",
       "      <td>1.566914e-01</td>\n",
       "      <td>0.075582</td>\n",
       "      <td>7.846081e-02</td>\n",
       "      <td>0.058739</td>\n",
       "      <td>7.417120e-02</td>\n",
       "      <td>-0.023884</td>\n",
       "      <td>5.736546e-01</td>\n",
       "    </tr>\n",
       "    <tr>\n",
       "      <td>5</td>\n",
       "      <td>6</td>\n",
       "      <td>0.187446</td>\n",
       "      <td>1.118900e-05</td>\n",
       "      <td>0.186104</td>\n",
       "      <td>1.295775e-05</td>\n",
       "      <td>0.142480</td>\n",
       "      <td>1.509278e-05</td>\n",
       "      <td>0.139667</td>\n",
       "      <td>1.159829e-03</td>\n",
       "    </tr>\n",
       "    <tr>\n",
       "      <td>6</td>\n",
       "      <td>7</td>\n",
       "      <td>0.154948</td>\n",
       "      <td>2.974350e-04</td>\n",
       "      <td>0.147466</td>\n",
       "      <td>5.798602e-04</td>\n",
       "      <td>0.113659</td>\n",
       "      <td>5.625785e-04</td>\n",
       "      <td>0.075555</td>\n",
       "      <td>7.885374e-02</td>\n",
       "    </tr>\n",
       "  </tbody>\n",
       "</table>\n",
       "</div>"
      ],
      "text/plain": [
       "   lag  pearsonr_corr  pearsonr_p-val  spearmanr_corr  spearmanr_p-val  \\\n",
       "0    1       0.302556    4.825195e-13        0.261564     5.233284e-10   \n",
       "1    2       0.290985    4.080086e-12        0.288249     6.592036e-12   \n",
       "2    3       0.139334    1.109298e-03        0.176697     3.350387e-05   \n",
       "3    4       0.159997    1.787304e-04        0.157114     2.341960e-04   \n",
       "4    5       0.060863    1.566914e-01        0.075582     7.846081e-02   \n",
       "5    6       0.187446    1.118900e-05        0.186104     1.295775e-05   \n",
       "6    7       0.154948    2.974350e-04        0.147466     5.798602e-04   \n",
       "\n",
       "   kendalltau_corr  kendalltau_p-val  partial_corr  partial_p-val  \n",
       "0         0.201170      8.535449e-10      0.288200   2.036697e-11  \n",
       "1         0.221652      1.444059e-11      0.211761   8.417344e-07  \n",
       "2         0.136710      3.159864e-05      0.009733   8.209044e-01  \n",
       "3         0.119011      2.934820e-04      0.070227   1.023781e-01  \n",
       "4         0.058739      7.417120e-02     -0.023884   5.736546e-01  \n",
       "5         0.142480      1.509278e-05      0.139667   1.159829e-03  \n",
       "6         0.113659      5.625785e-04      0.075555   7.885374e-02  "
      ]
     },
     "execution_count": 47,
     "metadata": {},
     "output_type": "execute_result"
    }
   ],
   "source": [
    "corr_2017 = corr_df(serie_2017,lags = 7)\n",
    "corr_2017"
   ]
  },
  {
   "cell_type": "code",
   "execution_count": 48,
   "metadata": {},
   "outputs": [
    {
     "data": {
      "image/png": "[encoded data removed]",
      "text/plain": [
       "<Figure size 720x504 with 4 Axes>"
      ]
     },
     "metadata": {
      "needs_background": "light"
     },
     "output_type": "display_data"
    }
   ],
   "source": [
    "plot_all_corr(corr_2017, alpha = 0.01, title='Coeficientes de correlacion 2017\\n(Rojo = No significativo al 5%)')"
   ]
  },
  {
   "cell_type": "markdown",
   "metadata": {},
   "source": [
    "### Año 2018"
   ]
  },
  {
   "cell_type": "code",
   "execution_count": 49,
   "metadata": {},
   "outputs": [
    {
     "data": {
      "image/png": "[encoded data removed]",
      "text/plain": [
       "<Figure size 432x288 with 1 Axes>"
      ]
     },
     "metadata": {
      "needs_background": "light"
     },
     "output_type": "display_data"
    }
   ],
   "source": [
    "# scatter\n",
    "serie_2018 = calendar_df[calendar_df['date'].dt.year == 2018]['hechos']\n",
    "plt.scatter(serie_2018,\n",
    "            serie_2018.shift(-1),)\n",
    "plt.show()"
   ]
  },
  {
   "cell_type": "markdown",
   "metadata": {},
   "source": [
    "Este año presenta una estructura muy diferente a los anteriores; esto está probablemente vinculada a la migración de datos. Además es el año con menos observaciones totales."
   ]
  },
  {
   "cell_type": "code",
   "execution_count": 50,
   "metadata": {},
   "outputs": [
    {
     "data": {
      "text/html": [
       "<div>\n",
       "<style scoped>\n",
       "    .dataframe tbody tr th:only-of-type {\n",
       "        vertical-align: middle;\n",
       "    }\n",
       "\n",
       "    .dataframe tbody tr th {\n",
       "        vertical-align: top;\n",
       "    }\n",
       "\n",
       "    .dataframe thead th {\n",
       "        text-align: right;\n",
       "    }\n",
       "</style>\n",
       "<table border=\"1\" class=\"dataframe\">\n",
       "  <thead>\n",
       "    <tr style=\"text-align: right;\">\n",
       "      <th></th>\n",
       "      <th>lag</th>\n",
       "      <th>pearsonr_corr</th>\n",
       "      <th>pearsonr_p-val</th>\n",
       "      <th>spearmanr_corr</th>\n",
       "      <th>spearmanr_p-val</th>\n",
       "      <th>kendalltau_corr</th>\n",
       "      <th>kendalltau_p-val</th>\n",
       "      <th>partial_corr</th>\n",
       "      <th>partial_p-val</th>\n",
       "    </tr>\n",
       "  </thead>\n",
       "  <tbody>\n",
       "    <tr>\n",
       "      <td>0</td>\n",
       "      <td>1</td>\n",
       "      <td>-0.062946</td>\n",
       "      <td>0.067093</td>\n",
       "      <td>-0.053276</td>\n",
       "      <td>0.121309</td>\n",
       "      <td>-0.049406</td>\n",
       "      <td>0.121000</td>\n",
       "      <td>-0.063001</td>\n",
       "      <td>0.065451</td>\n",
       "    </tr>\n",
       "    <tr>\n",
       "      <td>1</td>\n",
       "      <td>2</td>\n",
       "      <td>-0.058369</td>\n",
       "      <td>0.089762</td>\n",
       "      <td>-0.045594</td>\n",
       "      <td>0.185213</td>\n",
       "      <td>-0.042356</td>\n",
       "      <td>0.184066</td>\n",
       "      <td>-0.062612</td>\n",
       "      <td>0.067131</td>\n",
       "    </tr>\n",
       "    <tr>\n",
       "      <td>2</td>\n",
       "      <td>3</td>\n",
       "      <td>0.001854</td>\n",
       "      <td>0.957079</td>\n",
       "      <td>0.039543</td>\n",
       "      <td>0.250882</td>\n",
       "      <td>0.036813</td>\n",
       "      <td>0.248732</td>\n",
       "      <td>-0.006046</td>\n",
       "      <td>0.859681</td>\n",
       "    </tr>\n",
       "    <tr>\n",
       "      <td>3</td>\n",
       "      <td>4</td>\n",
       "      <td>0.007131</td>\n",
       "      <td>0.836123</td>\n",
       "      <td>0.037258</td>\n",
       "      <td>0.279623</td>\n",
       "      <td>0.034516</td>\n",
       "      <td>0.279886</td>\n",
       "      <td>0.003211</td>\n",
       "      <td>0.925813</td>\n",
       "    </tr>\n",
       "    <tr>\n",
       "      <td>4</td>\n",
       "      <td>5</td>\n",
       "      <td>0.016296</td>\n",
       "      <td>0.636585</td>\n",
       "      <td>0.014325</td>\n",
       "      <td>0.677902</td>\n",
       "      <td>0.013330</td>\n",
       "      <td>0.676707</td>\n",
       "      <td>0.016801</td>\n",
       "      <td>0.626101</td>\n",
       "    </tr>\n",
       "    <tr>\n",
       "      <td>5</td>\n",
       "      <td>6</td>\n",
       "      <td>0.037785</td>\n",
       "      <td>0.273444</td>\n",
       "      <td>-0.002936</td>\n",
       "      <td>0.932202</td>\n",
       "      <td>-0.002851</td>\n",
       "      <td>0.928971</td>\n",
       "      <td>0.040785</td>\n",
       "      <td>0.236905</td>\n",
       "    </tr>\n",
       "    <tr>\n",
       "      <td>6</td>\n",
       "      <td>7</td>\n",
       "      <td>0.063335</td>\n",
       "      <td>0.066382</td>\n",
       "      <td>0.074212</td>\n",
       "      <td>0.031403</td>\n",
       "      <td>0.068948</td>\n",
       "      <td>0.031264</td>\n",
       "      <td>0.070594</td>\n",
       "      <td>0.040637</td>\n",
       "    </tr>\n",
       "  </tbody>\n",
       "</table>\n",
       "</div>"
      ],
      "text/plain": [
       "   lag  pearsonr_corr  pearsonr_p-val  spearmanr_corr  spearmanr_p-val  \\\n",
       "0    1      -0.062946        0.067093       -0.053276         0.121309   \n",
       "1    2      -0.058369        0.089762       -0.045594         0.185213   \n",
       "2    3       0.001854        0.957079        0.039543         0.250882   \n",
       "3    4       0.007131        0.836123        0.037258         0.279623   \n",
       "4    5       0.016296        0.636585        0.014325         0.677902   \n",
       "5    6       0.037785        0.273444       -0.002936         0.932202   \n",
       "6    7       0.063335        0.066382        0.074212         0.031403   \n",
       "\n",
       "   kendalltau_corr  kendalltau_p-val  partial_corr  partial_p-val  \n",
       "0        -0.049406          0.121000     -0.063001       0.065451  \n",
       "1        -0.042356          0.184066     -0.062612       0.067131  \n",
       "2         0.036813          0.248732     -0.006046       0.859681  \n",
       "3         0.034516          0.279886      0.003211       0.925813  \n",
       "4         0.013330          0.676707      0.016801       0.626101  \n",
       "5        -0.002851          0.928971      0.040785       0.236905  \n",
       "6         0.068948          0.031264      0.070594       0.040637  "
      ]
     },
     "execution_count": 50,
     "metadata": {},
     "output_type": "execute_result"
    }
   ],
   "source": [
    "corr_2018 = corr_df(serie_2018,lags = 7)\n",
    "corr_2018"
   ]
  },
  {
   "cell_type": "code",
   "execution_count": 51,
   "metadata": {
    "scrolled": true
   },
   "outputs": [
    {
     "data": {
      "image/png": "[encoded data removed]",
      "text/plain": [
       "<Figure size 720x504 with 4 Axes>"
      ]
     },
     "metadata": {
      "needs_background": "light"
     },
     "output_type": "display_data"
    }
   ],
   "source": [
    "plot_all_corr(corr_2018, alpha = 0.01, title='Coeficientes de correlacion 2018\\n(Rojo = No significativo al 5%)')"
   ]
  },
  {
   "cell_type": "markdown",
   "metadata": {},
   "source": [
    "### Año 2019"
   ]
  },
  {
   "cell_type": "code",
   "execution_count": 52,
   "metadata": {},
   "outputs": [
    {
     "data": {
      "image/png": "[encoded data removed]",
      "text/plain": [
       "<Figure size 432x288 with 1 Axes>"
      ]
     },
     "metadata": {
      "needs_background": "light"
     },
     "output_type": "display_data"
    }
   ],
   "source": [
    "# scatter\n",
    "serie_2019 = calendar_df[calendar_df['date'].dt.year == 2019]['hechos']\n",
    "plt.scatter(serie_2019,\n",
    "            serie_2019.shift(-1),)\n",
    "plt.show()"
   ]
  },
  {
   "cell_type": "markdown",
   "metadata": {},
   "source": [
    "Para este año caben las mismas observaciones que para el 2018."
   ]
  },
  {
   "cell_type": "code",
   "execution_count": 53,
   "metadata": {},
   "outputs": [
    {
     "data": {
      "text/html": [
       "<div>\n",
       "<style scoped>\n",
       "    .dataframe tbody tr th:only-of-type {\n",
       "        vertical-align: middle;\n",
       "    }\n",
       "\n",
       "    .dataframe tbody tr th {\n",
       "        vertical-align: top;\n",
       "    }\n",
       "\n",
       "    .dataframe thead th {\n",
       "        text-align: right;\n",
       "    }\n",
       "</style>\n",
       "<table border=\"1\" class=\"dataframe\">\n",
       "  <thead>\n",
       "    <tr style=\"text-align: right;\">\n",
       "      <th></th>\n",
       "      <th>lag</th>\n",
       "      <th>pearsonr_corr</th>\n",
       "      <th>pearsonr_p-val</th>\n",
       "      <th>spearmanr_corr</th>\n",
       "      <th>spearmanr_p-val</th>\n",
       "      <th>kendalltau_corr</th>\n",
       "      <th>kendalltau_p-val</th>\n",
       "      <th>partial_corr</th>\n",
       "      <th>partial_p-val</th>\n",
       "    </tr>\n",
       "  </thead>\n",
       "  <tbody>\n",
       "    <tr>\n",
       "      <td>0</td>\n",
       "      <td>1</td>\n",
       "      <td>-0.042357</td>\n",
       "      <td>0.215982</td>\n",
       "      <td>-0.010177</td>\n",
       "      <td>0.766344</td>\n",
       "      <td>-0.009271</td>\n",
       "      <td>0.765919</td>\n",
       "      <td>-0.042009</td>\n",
       "      <td>0.217171</td>\n",
       "    </tr>\n",
       "    <tr>\n",
       "      <td>1</td>\n",
       "      <td>2</td>\n",
       "      <td>-0.007314</td>\n",
       "      <td>0.830997</td>\n",
       "      <td>-0.045264</td>\n",
       "      <td>0.186333</td>\n",
       "      <td>-0.041515</td>\n",
       "      <td>0.182681</td>\n",
       "      <td>-0.009045</td>\n",
       "      <td>0.790460</td>\n",
       "    </tr>\n",
       "    <tr>\n",
       "      <td>2</td>\n",
       "      <td>3</td>\n",
       "      <td>0.017475</td>\n",
       "      <td>0.610288</td>\n",
       "      <td>0.004628</td>\n",
       "      <td>0.892640</td>\n",
       "      <td>0.004118</td>\n",
       "      <td>0.894971</td>\n",
       "      <td>0.016529</td>\n",
       "      <td>0.630084</td>\n",
       "    </tr>\n",
       "    <tr>\n",
       "      <td>3</td>\n",
       "      <td>4</td>\n",
       "      <td>0.001842</td>\n",
       "      <td>0.957180</td>\n",
       "      <td>-0.004689</td>\n",
       "      <td>0.891304</td>\n",
       "      <td>-0.004307</td>\n",
       "      <td>0.890233</td>\n",
       "      <td>0.003186</td>\n",
       "      <td>0.926032</td>\n",
       "    </tr>\n",
       "    <tr>\n",
       "      <td>4</td>\n",
       "      <td>5</td>\n",
       "      <td>0.009817</td>\n",
       "      <td>0.774905</td>\n",
       "      <td>-0.018868</td>\n",
       "      <td>0.582548</td>\n",
       "      <td>-0.017275</td>\n",
       "      <td>0.580101</td>\n",
       "      <td>0.010169</td>\n",
       "      <td>0.766992</td>\n",
       "    </tr>\n",
       "    <tr>\n",
       "      <td>5</td>\n",
       "      <td>6</td>\n",
       "      <td>-0.024226</td>\n",
       "      <td>0.480574</td>\n",
       "      <td>0.001604</td>\n",
       "      <td>0.962765</td>\n",
       "      <td>0.001328</td>\n",
       "      <td>0.966112</td>\n",
       "      <td>-0.023317</td>\n",
       "      <td>0.493347</td>\n",
       "    </tr>\n",
       "    <tr>\n",
       "      <td>6</td>\n",
       "      <td>7</td>\n",
       "      <td>0.024816</td>\n",
       "      <td>0.470221</td>\n",
       "      <td>0.055842</td>\n",
       "      <td>0.103954</td>\n",
       "      <td>0.050779</td>\n",
       "      <td>0.104330</td>\n",
       "      <td>0.022617</td>\n",
       "      <td>0.509886</td>\n",
       "    </tr>\n",
       "  </tbody>\n",
       "</table>\n",
       "</div>"
      ],
      "text/plain": [
       "   lag  pearsonr_corr  pearsonr_p-val  spearmanr_corr  spearmanr_p-val  \\\n",
       "0    1      -0.042357        0.215982       -0.010177         0.766344   \n",
       "1    2      -0.007314        0.830997       -0.045264         0.186333   \n",
       "2    3       0.017475        0.610288        0.004628         0.892640   \n",
       "3    4       0.001842        0.957180       -0.004689         0.891304   \n",
       "4    5       0.009817        0.774905       -0.018868         0.582548   \n",
       "5    6      -0.024226        0.480574        0.001604         0.962765   \n",
       "6    7       0.024816        0.470221        0.055842         0.103954   \n",
       "\n",
       "   kendalltau_corr  kendalltau_p-val  partial_corr  partial_p-val  \n",
       "0        -0.009271          0.765919     -0.042009       0.217171  \n",
       "1        -0.041515          0.182681     -0.009045       0.790460  \n",
       "2         0.004118          0.894971      0.016529       0.630084  \n",
       "3        -0.004307          0.890233      0.003186       0.926032  \n",
       "4        -0.017275          0.580101      0.010169       0.766992  \n",
       "5         0.001328          0.966112     -0.023317       0.493347  \n",
       "6         0.050779          0.104330      0.022617       0.509886  "
      ]
     },
     "execution_count": 53,
     "metadata": {},
     "output_type": "execute_result"
    }
   ],
   "source": [
    "corr_2019 = corr_df(serie_2019,lags = 7)\n",
    "corr_2019"
   ]
  },
  {
   "cell_type": "code",
   "execution_count": 54,
   "metadata": {},
   "outputs": [
    {
     "data": {
      "image/png": "[encoded data removed]",
      "text/plain": [
       "<Figure size 720x504 with 4 Axes>"
      ]
     },
     "metadata": {
      "needs_background": "light"
     },
     "output_type": "display_data"
    }
   ],
   "source": [
    "plot_all_corr(corr_2019, alpha = 0.01, title='Coeficientes de correlacion 2019\\n(Rojo = No significativo al 5%)')"
   ]
  },
  {
   "cell_type": "markdown",
   "metadata": {},
   "source": [
    "## Estacionalidad: hechos por meses"
   ]
  },
  {
   "cell_type": "code",
   "execution_count": 55,
   "metadata": {},
   "outputs": [
    {
     "data": {
      "text/html": [
       "<div>\n",
       "<style scoped>\n",
       "    .dataframe tbody tr th:only-of-type {\n",
       "        vertical-align: middle;\n",
       "    }\n",
       "\n",
       "    .dataframe tbody tr th {\n",
       "        vertical-align: top;\n",
       "    }\n",
       "\n",
       "    .dataframe thead th {\n",
       "        text-align: right;\n",
       "    }\n",
       "</style>\n",
       "<table border=\"1\" class=\"dataframe\">\n",
       "  <thead>\n",
       "    <tr style=\"text-align: right;\">\n",
       "      <th></th>\n",
       "      <th>hechos</th>\n",
       "    </tr>\n",
       "    <tr>\n",
       "      <th>exp_fechecho_dt</th>\n",
       "      <th></th>\n",
       "    </tr>\n",
       "  </thead>\n",
       "  <tbody>\n",
       "    <tr>\n",
       "      <td>1.0</td>\n",
       "      <td>1184</td>\n",
       "    </tr>\n",
       "    <tr>\n",
       "      <td>2.0</td>\n",
       "      <td>1056</td>\n",
       "    </tr>\n",
       "    <tr>\n",
       "      <td>3.0</td>\n",
       "      <td>1154</td>\n",
       "    </tr>\n",
       "    <tr>\n",
       "      <td>4.0</td>\n",
       "      <td>1152</td>\n",
       "    </tr>\n",
       "    <tr>\n",
       "      <td>5.0</td>\n",
       "      <td>1160</td>\n",
       "    </tr>\n",
       "    <tr>\n",
       "      <td>6.0</td>\n",
       "      <td>1132</td>\n",
       "    </tr>\n",
       "    <tr>\n",
       "      <td>7.0</td>\n",
       "      <td>1111</td>\n",
       "    </tr>\n",
       "    <tr>\n",
       "      <td>8.0</td>\n",
       "      <td>1083</td>\n",
       "    </tr>\n",
       "    <tr>\n",
       "      <td>9.0</td>\n",
       "      <td>1115</td>\n",
       "    </tr>\n",
       "    <tr>\n",
       "      <td>10.0</td>\n",
       "      <td>1058</td>\n",
       "    </tr>\n",
       "    <tr>\n",
       "      <td>11.0</td>\n",
       "      <td>909</td>\n",
       "    </tr>\n",
       "    <tr>\n",
       "      <td>12.0</td>\n",
       "      <td>1049</td>\n",
       "    </tr>\n",
       "  </tbody>\n",
       "</table>\n",
       "</div>"
      ],
      "text/plain": [
       "                 hechos\n",
       "exp_fechecho_dt        \n",
       "1.0                1184\n",
       "2.0                1056\n",
       "3.0                1154\n",
       "4.0                1152\n",
       "5.0                1160\n",
       "6.0                1132\n",
       "7.0                1111\n",
       "8.0                1083\n",
       "9.0                1115\n",
       "10.0               1058\n",
       "11.0                909\n",
       "12.0               1049"
      ]
     },
     "execution_count": 55,
     "metadata": {},
     "output_type": "execute_result"
    }
   ],
   "source": [
    "df_month_groupby = df.groupby(df['exp_fechecho_dt'].dt.month)\n",
    "df_month_count = df_month_groupby.count()['exp_cuij'].to_frame(name='hechos')\n",
    "df_month_count"
   ]
  },
  {
   "cell_type": "code",
   "execution_count": 56,
   "metadata": {},
   "outputs": [
    {
     "data": {
      "text/plain": [
       "1096.9166666666667"
      ]
     },
     "execution_count": 56,
     "metadata": {},
     "output_type": "execute_result"
    }
   ],
   "source": [
    "month_avg = np.mean(df_month_count.values)\n",
    "month_avg"
   ]
  },
  {
   "cell_type": "code",
   "execution_count": 57,
   "metadata": {},
   "outputs": [
    {
     "data": {
      "image/png": "[encoded data removed]",
      "text/plain": [
       "<Figure size 1080x432 with 1 Axes>"
      ]
     },
     "metadata": {
      "needs_background": "light"
     },
     "output_type": "display_data"
    }
   ],
   "source": [
    "meses = ['Ene','Feb','Mar','Abr','May','Jun',\n",
    "         'Jul','Ago','Sep','Oct','Nov','Dic']\n",
    "plt.figure(figsize=(15,6))\n",
    "plt.bar(x=meses,\n",
    "        height=df_month_count.values.flatten())\n",
    "plt.plot([month_avg for i in range(12)],c='red')\n",
    "plt.annotate('Promedio: '+str(int(month_avg)),\n",
    "             (9,1120),c='red',fontsize=13,\n",
    "            fontweight='bold')\n",
    "plt.title('Hechos por Mes')\n",
    "plt.savefig('hechos_por_mes.png')\n",
    "plt.show()"
   ]
  },
  {
   "cell_type": "markdown",
   "metadata": {},
   "source": [
    "No parece haber fuerte estacionalidad en los meses (faltaría un test formal)."
   ]
  },
  {
   "cell_type": "markdown",
   "metadata": {},
   "source": [
    "## Estacionalidad: hechos por dias"
   ]
  },
  {
   "cell_type": "code",
   "execution_count": 58,
   "metadata": {},
   "outputs": [
    {
     "data": {
      "text/html": [
       "<div>\n",
       "<style scoped>\n",
       "    .dataframe tbody tr th:only-of-type {\n",
       "        vertical-align: middle;\n",
       "    }\n",
       "\n",
       "    .dataframe tbody tr th {\n",
       "        vertical-align: top;\n",
       "    }\n",
       "\n",
       "    .dataframe thead th {\n",
       "        text-align: right;\n",
       "    }\n",
       "</style>\n",
       "<table border=\"1\" class=\"dataframe\">\n",
       "  <thead>\n",
       "    <tr style=\"text-align: right;\">\n",
       "      <th></th>\n",
       "      <th>hechos</th>\n",
       "    </tr>\n",
       "    <tr>\n",
       "      <th>exp_fechecho_dt</th>\n",
       "      <th></th>\n",
       "    </tr>\n",
       "  </thead>\n",
       "  <tbody>\n",
       "    <tr>\n",
       "      <td>0.0</td>\n",
       "      <td>1867</td>\n",
       "    </tr>\n",
       "    <tr>\n",
       "      <td>1.0</td>\n",
       "      <td>1881</td>\n",
       "    </tr>\n",
       "    <tr>\n",
       "      <td>2.0</td>\n",
       "      <td>2014</td>\n",
       "    </tr>\n",
       "    <tr>\n",
       "      <td>3.0</td>\n",
       "      <td>1930</td>\n",
       "    </tr>\n",
       "    <tr>\n",
       "      <td>4.0</td>\n",
       "      <td>1801</td>\n",
       "    </tr>\n",
       "    <tr>\n",
       "      <td>5.0</td>\n",
       "      <td>1837</td>\n",
       "    </tr>\n",
       "    <tr>\n",
       "      <td>6.0</td>\n",
       "      <td>1833</td>\n",
       "    </tr>\n",
       "  </tbody>\n",
       "</table>\n",
       "</div>"
      ],
      "text/plain": [
       "                 hechos\n",
       "exp_fechecho_dt        \n",
       "0.0                1867\n",
       "1.0                1881\n",
       "2.0                2014\n",
       "3.0                1930\n",
       "4.0                1801\n",
       "5.0                1837\n",
       "6.0                1833"
      ]
     },
     "execution_count": 58,
     "metadata": {},
     "output_type": "execute_result"
    }
   ],
   "source": [
    "df_weekday_groupby = df.groupby(df['exp_fechecho_dt'].dt.weekday)\n",
    "df_weekday_count = df_weekday_groupby.count()['exp_cuij'].to_frame(name='hechos')\n",
    "df_weekday_count"
   ]
  },
  {
   "cell_type": "code",
   "execution_count": 59,
   "metadata": {},
   "outputs": [
    {
     "data": {
      "text/plain": [
       "1880.4285714285713"
      ]
     },
     "execution_count": 59,
     "metadata": {},
     "output_type": "execute_result"
    }
   ],
   "source": [
    "weekday_avg = np.mean(df_weekday_count.values)\n",
    "weekday_avg"
   ]
  },
  {
   "cell_type": "code",
   "execution_count": 60,
   "metadata": {},
   "outputs": [
    {
     "data": {
      "image/png": "[encoded data removed]",
      "text/plain": [
       "<Figure size 1080x432 with 1 Axes>"
      ]
     },
     "metadata": {
      "needs_background": "light"
     },
     "output_type": "display_data"
    }
   ],
   "source": [
    "dias = ['Lun','Mar','Mie','Jue','Vie','Sab','Dom']\n",
    "plt.figure(figsize=(15,6))\n",
    "plt.bar(x=dias,\n",
    "        height=df_weekday_count.values.flatten())\n",
    "plt.plot([weekday_avg for i in range(7)],c='red')\n",
    "plt.annotate('Promedio: '+str(int(weekday_avg)),\n",
    "             (5,1900),c='red',fontsize=13,\n",
    "            fontweight='bold')\n",
    "plt.title('Hechos por Mes')\n",
    "plt.savefig('hechos_por_mes.png')\n",
    "plt.show()"
   ]
  },
  {
   "cell_type": "markdown",
   "metadata": {},
   "source": [
    "No parece haber fuerte estacionalidad en los días de la semana."
   ]
  },
  {
   "cell_type": "markdown",
   "metadata": {},
   "source": [
    "## Discusión Conceptual"
   ]
  },
  {
   "cell_type": "markdown",
   "metadata": {},
   "source": [
    "- Autocorrelación temporal: modelos empíricos, componente teórico débil (inercia). No aplicaría en nuestro caso. El origen puede estar en la captación de datos? (lo hablamos en la última call, lo sugiere Martina en la minuta).\n",
    "- Autocorrelación espacial: muy utilizada en criminología. Problema econométrico de selection bias. Teoría relacionada: broken window (no confundir con Rudolph Giuliani).\n",
    "- Autocorrelación temporal en criminología: efecto contagio (cómo operaría? Priming en el margen)"
   ]
  },
  {
   "cell_type": "markdown",
   "metadata": {},
   "source": [
    "## Expedientes"
   ]
  },
  {
   "cell_type": "code",
   "execution_count": 61,
   "metadata": {},
   "outputs": [],
   "source": [
    "# separo exp_cuij en tres columnas\n",
    "for i in df.index:\n",
    "    df.at[i,'exp_cuij_1'] = df.at[i,'exp_cuij'][0:2]\n",
    "    df.at[i,'exp_cuij_2'] = df.at[i,'exp_cuij'][3:11]\n",
    "    df.at[i,'exp_cuij_3'] = df.at[i,'exp_cuij'][12:13]"
   ]
  },
  {
   "cell_type": "code",
   "execution_count": 62,
   "metadata": {},
   "outputs": [
    {
     "data": {
      "text/plain": [
       "(37136, 63)"
      ]
     },
     "execution_count": 62,
     "metadata": {},
     "output_type": "execute_result"
    }
   ],
   "source": [
    "df.shape"
   ]
  },
  {
   "cell_type": "code",
   "execution_count": 63,
   "metadata": {},
   "outputs": [
    {
     "data": {
      "text/plain": [
       "(28258,)"
      ]
     },
     "execution_count": 63,
     "metadata": {},
     "output_type": "execute_result"
    }
   ],
   "source": [
    "# expedientes unicos segun exp_cuij\n",
    "df['exp_cuij_2'].unique().shape"
   ]
  },
  {
   "cell_type": "code",
   "execution_count": 64,
   "metadata": {},
   "outputs": [
    {
     "data": {
      "text/plain": [
       "(32384,)"
      ]
     },
     "execution_count": 64,
     "metadata": {},
     "output_type": "execute_result"
    }
   ],
   "source": [
    "# expedientes unicos segun exp_id\n",
    "df['exp_id'].unique().shape"
   ]
  }
 ],
 "metadata": {
  "kernelspec": {
   "display_name": "Python 3",
   "language": "python",
   "name": "python3"
  },
  "language_info": {
   "codemirror_mode": {
    "name": "ipython",
    "version": 3
   },
   "file_extension": ".py",
   "mimetype": "text/x-python",
   "name": "python",
   "nbconvert_exporter": "python",
   "pygments_lexer": "ipython3",
   "version": "3.7.4"
  }
 },
 "nbformat": 4,
 "nbformat_minor": 2
}
